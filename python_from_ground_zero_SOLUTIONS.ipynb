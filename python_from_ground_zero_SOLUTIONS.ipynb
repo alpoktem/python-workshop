{
  "nbformat": 4,
  "nbformat_minor": 0,
  "metadata": {
    "colab": {
      "name": "Python from ground zero workshop (SOLUTIONS)",
      "provenance": [],
      "collapsed_sections": []
    },
    "kernelspec": {
      "name": "python3",
      "display_name": "Python 3"
    }
  },
  "cells": [
    {
      "cell_type": "markdown",
      "source": [
        "# Python from ground zero workshop (SOLUTIONS)\n",
        "\n",
        "Welcome to Python from ground zero workshop. In this notebook, we'll go step by step to build a solid base for Python. "
      ],
      "metadata": {
        "id": "TJwKoasnQSJa"
      }
    },
    {
      "cell_type": "markdown",
      "source": [
        "# Part 1 - Learning Colab! \n",
        "\n",
        "In this part we'll learn the Colab notebook interface.\n",
        "\n",
        "Colab, or \"Colaboratory\", allows you to write and execute Python in your browser. We write codes in snippets called \"cells\", execute them and see what they do just below.\n",
        "\n",
        "Let's get a hang of it, shall we?\n",
        "\n",
        "Type in the following box: `42` \n",
        "Then press the ▶️ button on the left"
      ],
      "metadata": {
        "id": "IrBYJV1mQW0N"
      }
    },
    {
      "cell_type": "code",
      "metadata": {
        "id": "4V57L5Jb4r-_",
        "outputId": "2936e52d-e7ba-41ec-95f3-f2aa5746e41c",
        "colab": {
          "base_uri": "https://localhost:8080/"
        }
      },
      "source": [
        "42"
      ],
      "execution_count": 2,
      "outputs": [
        {
          "output_type": "execute_result",
          "data": {
            "text/plain": [
              "42"
            ]
          },
          "metadata": {},
          "execution_count": 2
        }
      ]
    },
    {
      "cell_type": "markdown",
      "source": [
        "We entered an expression, the simplest expression there can be: a number and the Python compiler interpreted it and gave us a result. \n",
        "\n",
        "Since there's nothing to be interpreted by a number it just gives whatever we give to it: `42`\n",
        "\n",
        "*(Secret to programming: Programs do whatever us humans tell them to do)*"
      ],
      "metadata": {
        "id": "wHGDlOjsVFNQ"
      }
    },
    {
      "cell_type": "markdown",
      "source": [
        "Now type: `42 + 90` (or any other mathematical expression)"
      ],
      "metadata": {
        "id": "sNuixsXnQief"
      }
    },
    {
      "cell_type": "code",
      "source": [
        "42 + 90"
      ],
      "metadata": {
        "id": "4qLcJMPwRqsW",
        "outputId": "be9c967f-eb3d-481d-ac04-8d08797ebc0c",
        "colab": {
          "base_uri": "https://localhost:8080/"
        }
      },
      "execution_count": 3,
      "outputs": [
        {
          "output_type": "execute_result",
          "data": {
            "text/plain": [
              "132"
            ]
          },
          "metadata": {},
          "execution_count": 3
        }
      ]
    },
    {
      "cell_type": "markdown",
      "source": [
        "Now, python compiler interpreted the mathematical expression and gave us its result."
      ],
      "metadata": {
        "id": "ytchU-huVjc9"
      }
    },
    {
      "cell_type": "markdown",
      "source": [
        "Try entering a text now: `'I love Python!'`\n",
        "\n",
        "*Hint: You can also use the short cut Shift+Enter to execute a cell quickly!*"
      ],
      "metadata": {
        "id": "YfEx35RgRvUG"
      }
    },
    {
      "cell_type": "code",
      "source": [
        "\"I love Python!\""
      ],
      "metadata": {
        "id": "VrNc_gUgSBnk",
        "outputId": "e50c47dc-4ac0-4443-8a7a-8cc850de1da0",
        "colab": {
          "base_uri": "https://localhost:8080/",
          "height": 36
        }
      },
      "execution_count": 4,
      "outputs": [
        {
          "output_type": "execute_result",
          "data": {
            "application/vnd.google.colaboratory.intrinsic+json": {
              "type": "string"
            },
            "text/plain": [
              "'I love Python!'"
            ]
          },
          "metadata": {},
          "execution_count": 4
        }
      ]
    },
    {
      "cell_type": "markdown",
      "source": [
        "Now let's get fancy. Enter the command: `print(\"Hello World!\")`"
      ],
      "metadata": {
        "id": "_5gGg3kCQojL"
      }
    },
    {
      "cell_type": "code",
      "source": [
        "print(\"Hello World!\")"
      ],
      "metadata": {
        "id": "NQFp-80ZQoAz",
        "outputId": "4199f17b-43db-48ba-b2d9-56856c443588",
        "colab": {
          "base_uri": "https://localhost:8080/"
        }
      },
      "execution_count": 152,
      "outputs": [
        {
          "output_type": "stream",
          "name": "stdout",
          "text": [
            "Hello World!\n"
          ]
        }
      ]
    },
    {
      "cell_type": "markdown",
      "source": [
        "You can write as many lines as you want. Although unless you explicitly do a print, only the latest expression will show up in the result. Let's try below"
      ],
      "metadata": {
        "id": "QRBYpJhNULJT"
      }
    },
    {
      "cell_type": "code",
      "source": [
        "42\n",
        "\"I love python!\"\n",
        "print(\"Hello World!\")\n",
        "\"555\"\n",
        "print(\"Hola!\")\n",
        "\"hey\""
      ],
      "metadata": {
        "id": "Y5WycCYJUKxl",
        "outputId": "43e53d10-9e3a-4417-c8fb-a92ec3e4794f",
        "colab": {
          "base_uri": "https://localhost:8080/",
          "height": 73
        }
      },
      "execution_count": 153,
      "outputs": [
        {
          "output_type": "stream",
          "name": "stdout",
          "text": [
            "Hello World!\n",
            "Hola!\n"
          ]
        },
        {
          "output_type": "execute_result",
          "data": {
            "application/vnd.google.colaboratory.intrinsic+json": {
              "type": "string"
            },
            "text/plain": [
              "'hey'"
            ]
          },
          "metadata": {},
          "execution_count": 153
        }
      ]
    },
    {
      "cell_type": "markdown",
      "source": [
        "Now let's give ourselves a high five for writing our first script! "
      ],
      "metadata": {
        "id": "nDCBoIAvTCP3"
      }
    },
    {
      "cell_type": "markdown",
      "source": [
        "# Part 2 - Variables\n",
        "\n",
        "Variables are where we keep information in programming. It's a way of asking the computer to allocate a space for us to store things. \n",
        "\n",
        "To create a variable, all we need to do is to put a name and a value to it. It is as simple as writing an equation:\n",
        "\n",
        "`mybrandnewvariable = 5`\n",
        "\n",
        "Once it is defined like this, the variable name will be our key into reaching this variable. \n",
        "\n",
        "The value of a variable is what's kept INSIDE the memory. You can think of variable name as the key of a box and the value as what's inside the box. \n",
        "\n",
        "Variable names are static but we can go changing the value however we want. So if I modify it in a certain point, it'll keep the updated value. \n",
        "\n",
        "`mybrandnewvariable = 9`\n",
        "\n",
        "Let's do a print using a variable. "
      ],
      "metadata": {
        "id": "5D8aWa6RTXZG"
      }
    },
    {
      "cell_type": "code",
      "source": [
        "my_string_variable = \"hello world!\"\n",
        "print(my_string_variable)"
      ],
      "metadata": {
        "id": "2ajPPkvTTBpu",
        "outputId": "e82ac1f6-dcf5-47fd-9e92-c513c4ca5404",
        "colab": {
          "base_uri": "https://localhost:8080/"
        }
      },
      "execution_count": 154,
      "outputs": [
        {
          "output_type": "stream",
          "name": "stdout",
          "text": [
            "hello world!\n"
          ]
        }
      ]
    },
    {
      "cell_type": "markdown",
      "source": [
        "Here, we stored the text `Hello world!` inside a variable called `my_string_variable`. \n",
        "\n",
        "Then, we printed referencing that variable. \n",
        "\n",
        "Note that we specified the text within quotation marks `\"...\"` but not when we reference the variable. \n",
        "\n",
        "Let's see the difference"
      ],
      "metadata": {
        "id": "0ShkszGeWFOG"
      }
    },
    {
      "cell_type": "code",
      "source": [
        "print(my_string_variable)"
      ],
      "metadata": {
        "id": "4I0MEqlFbuM3",
        "outputId": "6feb9a0d-3cc7-4954-c322-3877046c9b4e",
        "colab": {
          "base_uri": "https://localhost:8080/"
        }
      },
      "execution_count": 155,
      "outputs": [
        {
          "output_type": "stream",
          "name": "stdout",
          "text": [
            "hello world!\n"
          ]
        }
      ]
    },
    {
      "cell_type": "markdown",
      "source": [
        "You see Python interprets whatever inside quotation marks as textual information. Since we used quotation marks here, Python didn't look for a variable named `my_string_variable`. Instead, it just interpreted it as regular text. \n",
        "\n",
        "Although we are free to write text any way we want, there are some naming conventions behind variables:\n",
        "- The variable name should begin with a letter or an underscore.\n",
        "- The variable name can ONLY consist of letters, numbers and underscore (NO SPACES)\n",
        "- Variable names ARE case sensitive (`my_variable` and `MY_Variable` would be two different variables)\n"
      ],
      "metadata": {
        "id": "mgI8V4UIo517"
      }
    },
    {
      "cell_type": "code",
      "source": [
        "this_is_a_good_variable_name = 5\n",
        "ThisIsAVaribleName = \"hello\""
      ],
      "metadata": {
        "id": "5yVgSP6FkY66"
      },
      "execution_count": 156,
      "outputs": []
    },
    {
      "cell_type": "markdown",
      "source": [
        "## Variable types\n",
        "\n",
        "There are various types of variables. For example:\n",
        "\n",
        "- number variable: `a = 5`\n",
        "- text/string variable: `v = \"some text\"`\n",
        "- lists: `l = [1,2,3,4]`\n",
        "- boolean: `b = True`\n",
        "\n",
        "We can see what type a variable has by using `type`. "
      ],
      "metadata": {
        "id": "wxB5H5OLWR2H"
      }
    },
    {
      "cell_type": "code",
      "source": [
        "a = [1,2,3,4,5]\n",
        "type(a)"
      ],
      "metadata": {
        "id": "eHe7go1wWE04",
        "outputId": "4bb59170-526c-4921-9055-0f6e0c359c4b",
        "colab": {
          "base_uri": "https://localhost:8080/"
        }
      },
      "execution_count": 16,
      "outputs": [
        {
          "output_type": "execute_result",
          "data": {
            "text/plain": [
              "list"
            ]
          },
          "metadata": {},
          "execution_count": 16
        }
      ]
    },
    {
      "cell_type": "markdown",
      "source": [
        "`str` stands for string. That's what programmers call a sequence of characters. That is any textual data. "
      ],
      "metadata": {
        "id": "kS0qe3F_Wtdd"
      }
    },
    {
      "cell_type": "markdown",
      "source": [
        "Also, have you noted that we referenced a variable that we defined in another cell? \n",
        "\n",
        "The Python instance is running continuously while we're working so it'll remember whatever variable we define. "
      ],
      "metadata": {
        "id": "gJfUqDKDW2ZI"
      }
    },
    {
      "cell_type": "markdown",
      "source": [
        "## Numbers\n",
        "\n",
        "A whole number can be stored in an `int` variable standing for `integer`. \n",
        "\n",
        "A decimal number can be stored in a `float`, standing for floating point value.\n",
        "\n",
        "Execute the following cell and see different types of numbers"
      ],
      "metadata": {
        "id": "BoQG4qqwXbYe"
      }
    },
    {
      "cell_type": "code",
      "source": [
        "num1 = 42\n",
        "num2 = 5.111\n",
        "print(\"Type of num1 is\", type(num1))\n",
        "print(\"Type of num2 is\", type(num2))"
      ],
      "metadata": {
        "id": "n08e6_cWWqVR",
        "outputId": "33c8297d-1e67-407b-efb8-dfc75bd0f748",
        "colab": {
          "base_uri": "https://localhost:8080/"
        }
      },
      "execution_count": 17,
      "outputs": [
        {
          "output_type": "stream",
          "name": "stdout",
          "text": [
            "Type of num1 is <class 'int'>\n",
            "Type of num2 is <class 'float'>\n"
          ]
        }
      ]
    },
    {
      "cell_type": "code",
      "source": [
        "product = num1 * num2\n",
        "print(product)\n",
        "print(type(product))"
      ],
      "metadata": {
        "id": "shWgvP6jlMc7",
        "outputId": "e584e0bf-ce59-4452-c354-30b9d756c3aa",
        "colab": {
          "base_uri": "https://localhost:8080/"
        }
      },
      "execution_count": 19,
      "outputs": [
        {
          "output_type": "stream",
          "name": "stdout",
          "text": [
            "214.66199999999998\n",
            "<class 'float'>\n"
          ]
        }
      ]
    },
    {
      "cell_type": "markdown",
      "source": [
        "# Challenge 1 - Variable arithmetics\n",
        "\n",
        "Define two number variables with values `9` and `12` and then get their sum, difference, division and product using the following variables:\n",
        "\n",
        "| Symbol | Task Performed |\n",
        "|----|---|\n",
        "| +  | Addition |\n",
        "| -  | Subtraction |\n",
        "| /  | division |\n",
        "| %  | mod |\n",
        "| *  | multiplication |\n",
        "| //  | floor division |\n",
        "| **  | to the power of |"
      ],
      "metadata": {
        "id": "1kJxZWYAYtwp"
      }
    },
    {
      "cell_type": "code",
      "source": [
        "a = 9\n",
        "b = 12\n",
        "\n",
        "sum = a + b\n",
        "print(\"sum\", sum)"
      ],
      "metadata": {
        "id": "O6fWqoSa1EP8",
        "outputId": "dd03c890-c12e-405e-a982-75bcaaed3479",
        "colab": {
          "base_uri": "https://localhost:8080/"
        }
      },
      "execution_count": 20,
      "outputs": [
        {
          "output_type": "stream",
          "name": "stdout",
          "text": [
            "sum 21\n"
          ]
        }
      ]
    },
    {
      "cell_type": "code",
      "source": [
        "subtraction = a -b \n",
        "print(\"sub\", subtraction)\n",
        "\n",
        "division = a / b\n",
        "print(\"div\", division)\n",
        "\n",
        "multiplication = a*b\n",
        "print(\"mul\", multiplication)"
      ],
      "metadata": {
        "id": "8VQdBzcumdeI",
        "outputId": "58a81a4c-8ace-4ed4-adbc-fbcf1d9cbe2b",
        "colab": {
          "base_uri": "https://localhost:8080/"
        }
      },
      "execution_count": 21,
      "outputs": [
        {
          "output_type": "stream",
          "name": "stdout",
          "text": [
            "sub -3\n",
            "div 0.75\n",
            "mul 108\n"
          ]
        }
      ]
    },
    {
      "cell_type": "markdown",
      "source": [
        "# Part 3 - String operations\n",
        "\n",
        "Many times we need to manipulate the text we're working with. There are plenty of operations in Python we can use for our tasks."
      ],
      "metadata": {
        "id": "Vo3MgP7LbUGS"
      }
    },
    {
      "cell_type": "markdown",
      "source": [
        "## String concatentation \n",
        "\n",
        "You can concatenate (merge) two strings with `+` operator. \n",
        "\n",
        "Try executing the following expression: `\"Hello\" + \"World\"`"
      ],
      "metadata": {
        "id": "_uE1NQ1Ue-8d"
      }
    },
    {
      "cell_type": "code",
      "source": [
        "\"Hello\" + \"World\""
      ],
      "metadata": {
        "id": "kcL_R7dubTBw",
        "outputId": "b15b3397-04b5-4f0b-9970-fbb825b373df",
        "colab": {
          "base_uri": "https://localhost:8080/",
          "height": 36
        }
      },
      "execution_count": 22,
      "outputs": [
        {
          "output_type": "execute_result",
          "data": {
            "application/vnd.google.colaboratory.intrinsic+json": {
              "type": "string"
            },
            "text/plain": [
              "'HelloWorld'"
            ]
          },
          "metadata": {},
          "execution_count": 22
        }
      ]
    },
    {
      "cell_type": "markdown",
      "source": [
        "Oops, forgot a space there. Add it yourself in the cell below:"
      ],
      "metadata": {
        "id": "RgXEPwqpffH-"
      }
    },
    {
      "cell_type": "code",
      "source": [
        "\"Hello\" + \" \" + \"World\""
      ],
      "metadata": {
        "id": "m_3thQM5f9JX",
        "outputId": "ec2e6cd8-2366-4b29-b1ba-2efc2c86e0eb",
        "colab": {
          "base_uri": "https://localhost:8080/",
          "height": 36
        }
      },
      "execution_count": 157,
      "outputs": [
        {
          "output_type": "execute_result",
          "data": {
            "application/vnd.google.colaboratory.intrinsic+json": {
              "type": "string"
            },
            "text/plain": [
              "'Hello World'"
            ]
          },
          "metadata": {},
          "execution_count": 157
        }
      ]
    },
    {
      "cell_type": "markdown",
      "source": [
        "## Indexing\n",
        "\n",
        "We said earlier that strings are a sequence of characters. Python allows us to get the character in the position we want using indices (`[x]`).\n",
        "\n",
        "Try executing the code below: "
      ],
      "metadata": {
        "id": "Z42uTrxMffDB"
      }
    },
    {
      "cell_type": "code",
      "source": [
        "mystr = \"localization\"\n",
        "mystr[5]"
      ],
      "metadata": {
        "id": "PWHN1saXgRYd",
        "outputId": "aaa12f36-cc6f-4fd8-84d4-fe75d1c663e8",
        "colab": {
          "base_uri": "https://localhost:8080/",
          "height": 36
        }
      },
      "execution_count": 32,
      "outputs": [
        {
          "output_type": "execute_result",
          "data": {
            "application/vnd.google.colaboratory.intrinsic+json": {
              "type": "string"
            },
            "text/plain": [
              "'i'"
            ]
          },
          "metadata": {},
          "execution_count": 32
        }
      ]
    },
    {
      "cell_type": "markdown",
      "source": [
        "`mystr[5]` gave us the fifth character in the string `localization` which is `l`... wait a second\n",
        "\n",
        "We didn't get `l` but instead `i`. Why?\n",
        "\n",
        "Well, it's because the indices in Python (and many other programming languages) start from 0. \n",
        "\n",
        "So... `0`-`l`, `1`-`o`, `2`-`c`, `3`-`a`, `4`-`l`, `5`-`i`... we got `i`!"
      ],
      "metadata": {
        "id": "KAN0yrgdgWe_"
      }
    },
    {
      "cell_type": "markdown",
      "source": [
        "## String length\n",
        "\n",
        "You can get the length of a string using `len(str)` function.\n",
        "\n",
        "Try getting the length of `mystr` below:"
      ],
      "metadata": {
        "id": "-uSY4BADM3hx"
      }
    },
    {
      "cell_type": "code",
      "source": [
        "len(mystr)"
      ],
      "metadata": {
        "id": "Aa_vmiKVM2Ts",
        "outputId": "977c0cb0-05e8-4e12-ac81-fdbd514b3605",
        "colab": {
          "base_uri": "https://localhost:8080/"
        }
      },
      "execution_count": 29,
      "outputs": [
        {
          "output_type": "execute_result",
          "data": {
            "text/plain": [
              "12"
            ]
          },
          "metadata": {},
          "execution_count": 29
        }
      ]
    },
    {
      "cell_type": "markdown",
      "source": [
        "# Challenge 2 - String arithmetics #1\n",
        "\n",
        "Obtain the character in the middle of `localization` using the following tools:\n",
        "- `len(str)` for getting the length of a string\n",
        "- `/` division operator\n",
        "- `[x]` index operator\n",
        "- `int(x)` casting for converting a float to integer\n",
        "\n",
        "You can define new variables if needed."
      ],
      "metadata": {
        "id": "L4P5ngegM57m"
      }
    },
    {
      "cell_type": "code",
      "source": [
        "middle = len(mystr)/2\n",
        "print(middle)\n",
        "print(int(middle))\n",
        "mystr[int(middle)]"
      ],
      "metadata": {
        "id": "tjVsWx63NAta",
        "outputId": "8a7e4427-b4f6-47a2-b072-580c26286266",
        "colab": {
          "base_uri": "https://localhost:8080/",
          "height": 73
        }
      },
      "execution_count": 38,
      "outputs": [
        {
          "output_type": "stream",
          "name": "stdout",
          "text": [
            "6.0\n",
            "6\n"
          ]
        },
        {
          "output_type": "execute_result",
          "data": {
            "application/vnd.google.colaboratory.intrinsic+json": {
              "type": "string"
            },
            "text/plain": [
              "'z'"
            ]
          },
          "metadata": {},
          "execution_count": 38
        }
      ]
    },
    {
      "cell_type": "markdown",
      "source": [
        "## `str.replace`\n",
        "\n",
        "Let's see what `str.replace` does by using `help` "
      ],
      "metadata": {
        "id": "R8SyowioNjlN"
      }
    },
    {
      "cell_type": "code",
      "source": [
        "help(str.replace)"
      ],
      "metadata": {
        "id": "dZ1GLJ8GN6L1",
        "outputId": "bdf108a7-51c5-492f-fab5-55c9bae38ea7",
        "colab": {
          "base_uri": "https://localhost:8080/"
        }
      },
      "execution_count": 39,
      "outputs": [
        {
          "output_type": "stream",
          "name": "stdout",
          "text": [
            "Help on method_descriptor:\n",
            "\n",
            "replace(self, old, new, count=-1, /)\n",
            "    Return a copy with all occurrences of substring old replaced by new.\n",
            "    \n",
            "      count\n",
            "        Maximum number of occurrences to replace.\n",
            "        -1 (the default value) means replace all occurrences.\n",
            "    \n",
            "    If the optional argument count is given, only the first count occurrences are\n",
            "    replaced.\n",
            "\n"
          ]
        }
      ]
    },
    {
      "cell_type": "markdown",
      "source": [
        "Now let's use `str.replace` to replace `Mr.` with `Dr.` in the following string"
      ],
      "metadata": {
        "id": "W2imwxjiOAdA"
      }
    },
    {
      "cell_type": "code",
      "source": [
        "myname = \"Mr. Jekyll\"\n",
        "myname.replace(\"Mr.\", \"Dr.\")"
      ],
      "metadata": {
        "id": "o3oQMWzYN_6O",
        "outputId": "4401a075-1a90-4b7e-c10b-4747c3beed50",
        "colab": {
          "base_uri": "https://localhost:8080/",
          "height": 36
        }
      },
      "execution_count": 40,
      "outputs": [
        {
          "output_type": "execute_result",
          "data": {
            "application/vnd.google.colaboratory.intrinsic+json": {
              "type": "string"
            },
            "text/plain": [
              "'Dr. Jekyll'"
            ]
          },
          "metadata": {},
          "execution_count": 40
        }
      ]
    },
    {
      "cell_type": "markdown",
      "source": [
        "Let's print `myname` now..."
      ],
      "metadata": {
        "id": "Yd5Ve95pOkM2"
      }
    },
    {
      "cell_type": "code",
      "source": [
        "print(myname)"
      ],
      "metadata": {
        "id": "5mMJLMGnOdoh",
        "outputId": "54f61e02-a6ac-487d-c00d-67e86b56edc6",
        "colab": {
          "base_uri": "https://localhost:8080/"
        }
      },
      "execution_count": 41,
      "outputs": [
        {
          "output_type": "stream",
          "name": "stdout",
          "text": [
            "Mr. Jekyll\n"
          ]
        }
      ]
    },
    {
      "cell_type": "markdown",
      "source": [
        "It didn't change why? \n",
        "\n",
        "It's because the change is not made in-place. If you check the help above, you'll see that it \"returns a copy\" of the string but not the string itself. \n",
        "\n",
        "If we want to store the modified variable we need to set the result into a new variable."
      ],
      "metadata": {
        "id": "m3CS9cbiOnR6"
      }
    },
    {
      "cell_type": "code",
      "source": [
        "#Defining new variable\n",
        "mynewname = myname.replace(\"Mr.\", \"Dr.\")\n",
        "print(myname)\n",
        "print(mynewname)"
      ],
      "metadata": {
        "id": "qAquY8UnOfgq",
        "outputId": "99820f8b-5ccd-4097-9422-371bf46fa61c",
        "colab": {
          "base_uri": "https://localhost:8080/"
        }
      },
      "execution_count": 42,
      "outputs": [
        {
          "output_type": "stream",
          "name": "stdout",
          "text": [
            "Mr. Jekyll\n",
            "Dr. Jekyll\n"
          ]
        }
      ]
    },
    {
      "cell_type": "markdown",
      "source": [
        "It also replaces all occurences of the given string."
      ],
      "metadata": {
        "id": "hadoLohAPzW4"
      }
    },
    {
      "cell_type": "code",
      "source": [
        "\"Mr.Jekyll and Mr.Hyde\".replace(\"Mr.\", \"Dr.\")"
      ],
      "metadata": {
        "id": "xUiSjqk8PLH2",
        "outputId": "2b39f812-83fb-4708-f959-0a1dad4e8a6f",
        "colab": {
          "base_uri": "https://localhost:8080/",
          "height": 36
        }
      },
      "execution_count": 43,
      "outputs": [
        {
          "output_type": "execute_result",
          "data": {
            "application/vnd.google.colaboratory.intrinsic+json": {
              "type": "string"
            },
            "text/plain": [
              "'Dr.Jekyll and Dr.Hyde'"
            ]
          },
          "metadata": {},
          "execution_count": 43
        }
      ]
    },
    {
      "cell_type": "markdown",
      "source": [
        "## `str.format()`\n",
        "\n",
        "This is used to place variables inside a string. "
      ],
      "metadata": {
        "id": "tdc8boVGSL8y"
      }
    },
    {
      "cell_type": "code",
      "source": [
        "secret = '{} {} is cool!'.format('Python', 'Programming')\n",
        "print(secret)"
      ],
      "metadata": {
        "id": "xKTkP8awPlk3",
        "outputId": "3c1af867-de47-474b-eadd-b0dd3b868e82",
        "colab": {
          "base_uri": "https://localhost:8080/"
        }
      },
      "execution_count": 45,
      "outputs": [
        {
          "output_type": "stream",
          "name": "stdout",
          "text": [
            "Python Programming is cool!\n"
          ]
        }
      ]
    },
    {
      "cell_type": "code",
      "source": [
        "#Introduce yourself using format\n",
        "print('Hello! My name is {} {}. Nice to meet you!'.format(\"Alp\", \"Öktem\"))"
      ],
      "metadata": {
        "id": "By4fXwQ0SH8j",
        "outputId": "a23f51f4-df2f-469f-9b90-37a347968334",
        "colab": {
          "base_uri": "https://localhost:8080/"
        }
      },
      "execution_count": 158,
      "outputs": [
        {
          "output_type": "stream",
          "name": "stdout",
          "text": [
            "Hello! My name is Alp Öktem. Nice to meet you!\n"
          ]
        }
      ]
    },
    {
      "cell_type": "markdown",
      "source": [
        "## `str.join()`"
      ],
      "metadata": {
        "id": "cDEheBP7SwIp"
      }
    },
    {
      "cell_type": "code",
      "source": [
        "str1 = 'pandas'\n",
        "str2 = 'numpy'\n",
        "str3 = 'requests'\n",
        "cool_python_libs = ', '.join([str1, str2, str3])"
      ],
      "metadata": {
        "id": "unUWwssxSx1Q"
      },
      "execution_count": 160,
      "outputs": []
    },
    {
      "cell_type": "code",
      "source": [
        "print('Some cool python libraries: {}'.format(cool_python_libs))"
      ],
      "metadata": {
        "id": "AtUzmRvZTAEn",
        "outputId": "9740b58a-9d79-4678-d747-39e5a4e2bd4f",
        "colab": {
          "base_uri": "https://localhost:8080/"
        }
      },
      "execution_count": 161,
      "outputs": [
        {
          "output_type": "stream",
          "name": "stdout",
          "text": [
            "Some cool python libraries: pandas, numpy, requests\n"
          ]
        }
      ]
    },
    {
      "cell_type": "markdown",
      "source": [
        "## `str.upper(), str.lower(), str.title()`\n",
        "\n",
        "These three are very useful when cleaning text"
      ],
      "metadata": {
        "id": "vn-M_b-4THbC"
      }
    },
    {
      "cell_type": "code",
      "source": [
        "mystr = 'pyTHoN hackER'"
      ],
      "metadata": {
        "id": "86bBAmKBTZe5"
      },
      "execution_count": 53,
      "outputs": []
    },
    {
      "cell_type": "code",
      "source": [
        "mystr.upper()"
      ],
      "metadata": {
        "id": "wi3zVllFTiVI",
        "outputId": "36b979df-e758-4c8f-d53d-412f43fa5ddd",
        "colab": {
          "base_uri": "https://localhost:8080/",
          "height": 36
        }
      },
      "execution_count": 54,
      "outputs": [
        {
          "output_type": "execute_result",
          "data": {
            "application/vnd.google.colaboratory.intrinsic+json": {
              "type": "string"
            },
            "text/plain": [
              "'PYTHON HACKER'"
            ]
          },
          "metadata": {},
          "execution_count": 54
        }
      ]
    },
    {
      "cell_type": "code",
      "source": [
        "mystr.lower()"
      ],
      "metadata": {
        "id": "rHL-kx7yToUN",
        "outputId": "0fd1c6e4-ea88-4775-f4ea-567db075866f",
        "colab": {
          "base_uri": "https://localhost:8080/",
          "height": 36
        }
      },
      "execution_count": 55,
      "outputs": [
        {
          "output_type": "execute_result",
          "data": {
            "application/vnd.google.colaboratory.intrinsic+json": {
              "type": "string"
            },
            "text/plain": [
              "'python hacker'"
            ]
          },
          "metadata": {},
          "execution_count": 55
        }
      ]
    },
    {
      "cell_type": "code",
      "source": [
        "mystr.title()"
      ],
      "metadata": {
        "id": "S3gvi5TOTq22",
        "outputId": "f5ac5ac0-8cf4-4b81-c859-51a828f553ec",
        "colab": {
          "base_uri": "https://localhost:8080/",
          "height": 36
        }
      },
      "execution_count": 56,
      "outputs": [
        {
          "output_type": "execute_result",
          "data": {
            "application/vnd.google.colaboratory.intrinsic+json": {
              "type": "string"
            },
            "text/plain": [
              "'Python Hacker'"
            ]
          },
          "metadata": {},
          "execution_count": 56
        }
      ]
    },
    {
      "cell_type": "code",
      "source": [
        "mystr.capitalize()"
      ],
      "metadata": {
        "id": "5vXisSnOV9af",
        "outputId": "89973935-4343-4510-fd54-35d83006218b",
        "colab": {
          "base_uri": "https://localhost:8080/",
          "height": 36
        }
      },
      "execution_count": 57,
      "outputs": [
        {
          "output_type": "execute_result",
          "data": {
            "application/vnd.google.colaboratory.intrinsic+json": {
              "type": "string"
            },
            "text/plain": [
              "'Python hacker'"
            ]
          },
          "metadata": {},
          "execution_count": 57
        }
      ]
    },
    {
      "cell_type": "markdown",
      "source": [
        "## `str.strip`\n",
        "\n",
        "Strips out sneaky whitespace at the beginning or end of the string. \n",
        "\n",
        "Note that `\\t` stands for tab and `\\n` stands for a new line in python (For more info see [Escape characters](http://python-reference.readthedocs.io/en/latest/docs/str/escapes.html#escape-characters))"
      ],
      "metadata": {
        "id": "aTTZtg5FT-xl"
      }
    },
    {
      "cell_type": "code",
      "source": [
        "my_crooked_str = \"   \\t THis Is a \\tTeRRIble sTRing \\n\""
      ],
      "metadata": {
        "id": "5j2RG52kT-CR"
      },
      "execution_count": 58,
      "outputs": []
    },
    {
      "cell_type": "code",
      "source": [
        "print(my_crooked_str)"
      ],
      "metadata": {
        "id": "bWW7NyfATtXI",
        "outputId": "b78e9e25-786b-4c8a-9ac8-be410b4ed4fd",
        "colab": {
          "base_uri": "https://localhost:8080/"
        }
      },
      "execution_count": 59,
      "outputs": [
        {
          "output_type": "stream",
          "name": "stdout",
          "text": [
            "   \t THis Is a \tTeRRIble sTRing \n",
            "\n"
          ]
        }
      ]
    },
    {
      "cell_type": "code",
      "source": [
        "slightly_better = my_crooked_str.strip()\n",
        "print(slightly_better)"
      ],
      "metadata": {
        "id": "KVu9sI3LUXqO",
        "outputId": "ed676bc9-4165-465d-e1e9-8c51f58eee32",
        "colab": {
          "base_uri": "https://localhost:8080/"
        }
      },
      "execution_count": 60,
      "outputs": [
        {
          "output_type": "stream",
          "name": "stdout",
          "text": [
            "THis Is a \tTeRRIble sTRing\n"
          ]
        }
      ]
    },
    {
      "cell_type": "markdown",
      "source": [
        "We can pipeline operations by adding them one after the other"
      ],
      "metadata": {
        "id": "gPvIIC8aXEOb"
      }
    },
    {
      "cell_type": "code",
      "source": [
        "slightly_better = my_crooked_str.strip().lower()\n",
        "print(slightly_better)"
      ],
      "metadata": {
        "id": "zszy6TxuXSwl",
        "outputId": "d2174381-c008-4ef3-bb57-c55e658e33fa",
        "colab": {
          "base_uri": "https://localhost:8080/"
        }
      },
      "execution_count": 61,
      "outputs": [
        {
          "output_type": "stream",
          "name": "stdout",
          "text": [
            "this is a \tterrible string\n"
          ]
        }
      ]
    },
    {
      "cell_type": "markdown",
      "source": [
        "## `str.split()`\n",
        "\n",
        "This is used to split string from the delimiters we choose. Let's see what `help` says about it. "
      ],
      "metadata": {
        "id": "hVdfR7lhU0wQ"
      }
    },
    {
      "cell_type": "code",
      "source": [
        "help(str.split)"
      ],
      "metadata": {
        "id": "q58d9MUkWadv",
        "outputId": "2da1406f-d0a0-4d43-f9fc-d4926e123cb4",
        "colab": {
          "base_uri": "https://localhost:8080/"
        }
      },
      "execution_count": 62,
      "outputs": [
        {
          "output_type": "stream",
          "name": "stdout",
          "text": [
            "Help on method_descriptor:\n",
            "\n",
            "split(self, /, sep=None, maxsplit=-1)\n",
            "    Return a list of the words in the string, using sep as the delimiter string.\n",
            "    \n",
            "    sep\n",
            "      The delimiter according which to split the string.\n",
            "      None (the default value) means split according to any whitespace,\n",
            "      and discard empty strings from the result.\n",
            "    maxsplit\n",
            "      Maximum number of splits to do.\n",
            "      -1 (the default value) means no limit.\n",
            "\n"
          ]
        }
      ]
    },
    {
      "cell_type": "code",
      "source": [
        "sentence = 'three different words'\n",
        "words = sentence.split()\n",
        "print(words)"
      ],
      "metadata": {
        "id": "QDvCF_BaUnM3",
        "outputId": "d6e7ad1a-b151-4c6c-e727-b8f89f679a0e",
        "colab": {
          "base_uri": "https://localhost:8080/"
        }
      },
      "execution_count": 63,
      "outputs": [
        {
          "output_type": "stream",
          "name": "stdout",
          "text": [
            "['three', 'different', 'words']\n"
          ]
        }
      ]
    },
    {
      "cell_type": "markdown",
      "source": [
        "As the description says, it returns a list. We'll get into lists later. \n",
        "\n",
        "We could use other delimiters too."
      ],
      "metadata": {
        "id": "bRsVCK1sWhGT"
      }
    },
    {
      "cell_type": "code",
      "source": [
        "another_sentence = 'three, different, words'\n",
        "words = another_sentence.split(\", \")\n",
        "print(words)"
      ],
      "metadata": {
        "id": "JmlSf146U8bD",
        "outputId": "d31076fd-f0ff-4246-a43f-753b640e8591",
        "colab": {
          "base_uri": "https://localhost:8080/"
        }
      },
      "execution_count": 68,
      "outputs": [
        {
          "output_type": "stream",
          "name": "stdout",
          "text": [
            "['three', 'different', 'words']\n"
          ]
        }
      ]
    },
    {
      "cell_type": "markdown",
      "source": [
        "# Challenge 3 - String arithmetics #2\n",
        "\n",
        "Let's use what we learned to make this horrible string truly beautiful. \n",
        "\n",
        "Let's process `my_crooked_str` so that it looks like this:\n",
        "\n",
        "`\"This is a beautiful string.\"`\n",
        "\n",
        "*(Don't forget the period in the end)*"
      ],
      "metadata": {
        "id": "HTUaRI7dXb5o"
      }
    },
    {
      "cell_type": "code",
      "source": [
        "my_crooked_str"
      ],
      "metadata": {
        "id": "O7zRe9aPrL2Z",
        "outputId": "6e9e40c8-b6d5-4d03-f527-82abb51bc83d",
        "colab": {
          "base_uri": "https://localhost:8080/",
          "height": 36
        }
      },
      "execution_count": 76,
      "outputs": [
        {
          "output_type": "execute_result",
          "data": {
            "application/vnd.google.colaboratory.intrinsic+json": {
              "type": "string"
            },
            "text/plain": [
              "'   \\t THis Is a \\tTeRRIble sTRing \\n'"
            ]
          },
          "metadata": {},
          "execution_count": 76
        }
      ]
    },
    {
      "cell_type": "code",
      "source": [
        "my_beautiful_string = my_crooked_str.strip().lower().replace(\"\\t\", \"\").capitalize()\n",
        "print(my_beautiful_string)\n",
        "\n",
        "my_beautiful_string = my_beautiful_string + \".\" \n",
        "print(my_beautiful_string)"
      ],
      "metadata": {
        "id": "nujI7IoTV3xi",
        "outputId": "f35e2c79-3c5e-4d61-cb8e-5c52c62533a1",
        "colab": {
          "base_uri": "https://localhost:8080/"
        }
      },
      "execution_count": 162,
      "outputs": [
        {
          "output_type": "stream",
          "name": "stdout",
          "text": [
            "This is a terrible string\n",
            "This is a terrible string.\n"
          ]
        }
      ]
    },
    {
      "cell_type": "markdown",
      "source": [
        "# Part 3 - Conditionals\n",
        "\n",
        "Welcome to conditionals, the most fundamental decision mechanism in coding. It's a way of showing direction to our program based on a condition.\n",
        "\n",
        "But before we get into that, I'll introduce another variable type called boolean (named after [George Boole](https://en.wikipedia.org/wiki/George_Boole)).\n",
        "\n",
        "A boolean is a binary variable, that is it can either be \"on\" or \"off\", 1 or 0, `True` or `False`. "
      ],
      "metadata": {
        "id": "gqBCRJngY7ec"
      }
    },
    {
      "cell_type": "code",
      "source": [
        "my_boolean = True\n",
        "print(my_boolean)\n",
        "print(type(my_boolean))"
      ],
      "metadata": {
        "id": "GtAKum6OdQnC",
        "outputId": "8c2b6741-2f37-40b9-8f8e-1f4fa9b58870",
        "colab": {
          "base_uri": "https://localhost:8080/"
        }
      },
      "execution_count": 85,
      "outputs": [
        {
          "output_type": "stream",
          "name": "stdout",
          "text": [
            "True\n",
            "<class 'bool'>\n"
          ]
        }
      ]
    },
    {
      "cell_type": "markdown",
      "source": [
        "I can negate a boolean variable by using the expression `not`"
      ],
      "metadata": {
        "id": "Y7Wx949fdgZO"
      }
    },
    {
      "cell_type": "code",
      "source": [
        "my_boolean = True\n",
        "another_boolean = not my_boolean\n",
        "print(another_boolean)"
      ],
      "metadata": {
        "id": "5zL9BLLMdmc5",
        "outputId": "6c9185da-192c-468d-f379-efa00da3d33d",
        "colab": {
          "base_uri": "https://localhost:8080/"
        }
      },
      "execution_count": 86,
      "outputs": [
        {
          "output_type": "stream",
          "name": "stdout",
          "text": [
            "False\n"
          ]
        }
      ]
    },
    {
      "cell_type": "markdown",
      "source": [
        "Now let's build our first conditional using `if`. "
      ],
      "metadata": {
        "id": "V_no5bCdeFBn"
      }
    },
    {
      "cell_type": "code",
      "source": [
        "statement = False\n",
        "if statement:\n",
        "  print('statement is True')\n",
        "    \n",
        "if not statement:\n",
        "  print('statement is not True')\n",
        "  print(\"Statement needs to be fixed\")"
      ],
      "metadata": {
        "id": "YziGX_udY9vU",
        "outputId": "3985b7a4-8ec1-4e64-e9a9-336ecd905bbd",
        "colab": {
          "base_uri": "https://localhost:8080/"
        }
      },
      "execution_count": 163,
      "outputs": [
        {
          "output_type": "stream",
          "name": "stdout",
          "text": [
            "statement is not True\n",
            "Statement needs to be fixed\n"
          ]
        }
      ]
    },
    {
      "cell_type": "markdown",
      "source": [
        "Note the indentation under `if` expression"
      ],
      "metadata": {
        "id": "Kltx06fMlQeV"
      }
    },
    {
      "cell_type": "markdown",
      "source": [
        "`if...else` also comes in handy"
      ],
      "metadata": {
        "id": "EbTYBakyeMJp"
      }
    },
    {
      "cell_type": "code",
      "source": [
        "statement = False\n",
        "if statement:\n",
        "    print('statement is True')\n",
        "else:\n",
        "    print('statement is not True')"
      ],
      "metadata": {
        "id": "KfliWfPOeJvY",
        "outputId": "92c82969-3fe9-49f0-d049-1c251482546e",
        "colab": {
          "base_uri": "https://localhost:8080/"
        }
      },
      "execution_count": 90,
      "outputs": [
        {
          "output_type": "stream",
          "name": "stdout",
          "text": [
            "statement is not True\n"
          ]
        }
      ]
    },
    {
      "cell_type": "markdown",
      "source": [
        "Let's say we want to decide what we want to wear depending on the temperature given in degrees celcius.\n",
        "\n",
        "To decide based on a number, we'll need the following:\n",
        "\n",
        "| Symbol | Task Performed |\n",
        "|----|---|\n",
        "| == | equals to |\n",
        "| >  | Bigger than |\n",
        "| <  | Smaller than |\n",
        "| >=  | Bigger than or equal to |\n",
        "| <=  | Smaller than or equal to |"
      ],
      "metadata": {
        "id": "AFgFrqaOg212"
      }
    },
    {
      "cell_type": "code",
      "source": [
        "temperature = 15\n",
        "\n",
        "#if...else\n",
        "if temperature == 15:\n",
        "  print(\"Wear your leather jacket\")"
      ],
      "metadata": {
        "id": "xigzVpIog2PI",
        "outputId": "260bccf1-d8f8-48e2-8f13-bd0fc4250fc6",
        "colab": {
          "base_uri": "https://localhost:8080/"
        }
      },
      "execution_count": 91,
      "outputs": [
        {
          "output_type": "stream",
          "name": "stdout",
          "text": [
            "Wear your leather jacket\n"
          ]
        }
      ]
    },
    {
      "cell_type": "code",
      "source": [
        "temperature = 25\n",
        "\n",
        "#if...else\n",
        "if temperature > 15:\n",
        "  print(\"Weather is nice. No need for jacket\")\n",
        "else:\n",
        "  print(\"Wear a jacket!\")"
      ],
      "metadata": {
        "id": "yy0IdH7WwF9T",
        "outputId": "83e2f88d-89d8-407a-a2b2-e0fd7defff4b",
        "colab": {
          "base_uri": "https://localhost:8080/"
        }
      },
      "execution_count": 94,
      "outputs": [
        {
          "output_type": "stream",
          "name": "stdout",
          "text": [
            "Weather is nice. No need for jacket\n"
          ]
        }
      ]
    },
    {
      "cell_type": "markdown",
      "source": [
        "If we have more than one condition then we use `if...elif...else`"
      ],
      "metadata": {
        "id": "BwKVNag6iERp"
      }
    },
    {
      "cell_type": "code",
      "source": [
        "temperature = -18\n",
        "\n",
        "#if...elif...else\n",
        "if temperature >= 15:\n",
        "  print(\"no jacket\")\n",
        "elif temperature > 10:\n",
        "  print(\"Wear a light jacket\")\n",
        "else:\n",
        "  print(\"It's pretty cold, layer up!\")"
      ],
      "metadata": {
        "id": "t3vgL3-8iDcZ",
        "outputId": "b92db6f1-9a1c-4d11-f3e7-f60579ef0bea",
        "colab": {
          "base_uri": "https://localhost:8080/"
        }
      },
      "execution_count": 96,
      "outputs": [
        {
          "output_type": "stream",
          "name": "stdout",
          "text": [
            "It's pretty cold, layer up!\n"
          ]
        }
      ]
    },
    {
      "cell_type": "markdown",
      "source": [
        "We can combine conditions with `and`, `or`"
      ],
      "metadata": {
        "id": "n3979WH2ir9x"
      }
    },
    {
      "cell_type": "code",
      "source": [
        "temperature = 25\n",
        "sunny = True\n",
        "\n",
        "#combined if\n",
        "if temperature > 20 and sunny:\n",
        "  print(\"Wear your sunglasses\")"
      ],
      "metadata": {
        "id": "o8ILCeAgip-q",
        "outputId": "60414344-90b6-484d-ba5f-018c169e28c2",
        "colab": {
          "base_uri": "https://localhost:8080/"
        }
      },
      "execution_count": 97,
      "outputs": [
        {
          "output_type": "stream",
          "name": "stdout",
          "text": [
            "Wear your sunglasses\n"
          ]
        }
      ]
    },
    {
      "cell_type": "code",
      "source": [
        "temperature = 25\n",
        "rainy = True\n",
        "\n",
        "#combined if with OR\n",
        "if temperature < 15 or rainy:\n",
        "  print(\"Wear a jacket\")"
      ],
      "metadata": {
        "id": "kBKU6vI9iBnM",
        "outputId": "717a8f23-3bcd-43ad-b47d-3baec5af4be4",
        "colab": {
          "base_uri": "https://localhost:8080/"
        }
      },
      "execution_count": 101,
      "outputs": [
        {
          "output_type": "stream",
          "name": "stdout",
          "text": [
            "Wear a jacket\n"
          ]
        }
      ]
    },
    {
      "cell_type": "markdown",
      "source": [
        "`==` and `!=` are used to evaluate if two expressions are equal or not equal"
      ],
      "metadata": {
        "id": "xPsiurMmklNX"
      }
    },
    {
      "cell_type": "code",
      "source": [
        "language = 'bn'\n",
        "\n",
        "if language == 'fr':\n",
        "  print(\"Bonjour!\")\n",
        "elif language == 'en':\n",
        "  print(\"Good morning!\")\n",
        "elif language == 'tr':\n",
        "  print(\"Günaydın\")\n",
        "else:\n",
        "  print(\"Sorry, i don't speak {}\".format(language))"
      ],
      "metadata": {
        "id": "aDOrX58rkkdr",
        "outputId": "3e44e453-b5e0-483f-b4fd-f0e8529569b7",
        "colab": {
          "base_uri": "https://localhost:8080/"
        }
      },
      "execution_count": 106,
      "outputs": [
        {
          "output_type": "stream",
          "name": "stdout",
          "text": [
            "Sorry, i don't speak bn\n"
          ]
        }
      ]
    },
    {
      "cell_type": "code",
      "source": [
        "password = '12345'\n",
        "user_input = '1234'\n",
        "\n",
        "#Warn if password is wrong using !=\n",
        "if user_input != password:\n",
        "  print(\"Wrong password!\")"
      ],
      "metadata": {
        "id": "jNvx7DmOkcOg",
        "outputId": "90cbc0ff-600d-4763-ec75-a2174e6801f7",
        "colab": {
          "base_uri": "https://localhost:8080/"
        }
      },
      "execution_count": 108,
      "outputs": [
        {
          "output_type": "stream",
          "name": "stdout",
          "text": [
            "Wrong password!\n"
          ]
        }
      ]
    },
    {
      "cell_type": "markdown",
      "source": [
        "#Challenge 4 - Conditionals\n",
        "\n",
        "Fill in where it's marked with `____` with the proper conditional"
      ],
      "metadata": {
        "id": "O87KTAc9loKg"
      }
    },
    {
      "cell_type": "code",
      "source": [
        "myname = \"Alp öktem\"\n",
        "len(myname)"
      ],
      "metadata": {
        "id": "-Y7qOjscx2fw",
        "outputId": "c6d13cb1-1f72-48bf-fc9c-54912b47d1f8",
        "colab": {
          "base_uri": "https://localhost:8080/"
        }
      },
      "execution_count": 109,
      "outputs": [
        {
          "output_type": "execute_result",
          "data": {
            "text/plain": [
              "9"
            ]
          },
          "metadata": {},
          "execution_count": 109
        }
      ]
    },
    {
      "cell_type": "code",
      "source": [
        "name = 'George Boole'\n",
        "\n",
        "if len(name) > 20:\n",
        "    print('Name \"{}\" is more than 20 chars long'.format(name))\n",
        "    length_description = 'long'\n",
        "elif len(name) > 15:\n",
        "    print('Name \"{}\" is more than 15 chars long'.format(name))\n",
        "    length_description = 'semi long'\n",
        "elif len(name) > 10:\n",
        "    print('Name \"{}\" is more than 10 chars long'.format(name))\n",
        "    length_description = 'semi long'\n",
        "elif len(name) >= 8:\n",
        "    print('Name \"{}\" is 8, 9 or 10 chars long'.format(name))\n",
        "    length_description = 'semi short'\n",
        "else:\n",
        "    print('Name \"{}\" is a short name'.format(name))\n",
        "    length_description = 'short'\n",
        "\n",
        "print(\"Length description:\", length_description)"
      ],
      "metadata": {
        "id": "es6dPJYUlKP5",
        "outputId": "5799d869-30e3-470a-a68a-a8407f425c6e",
        "colab": {
          "base_uri": "https://localhost:8080/"
        }
      },
      "execution_count": 164,
      "outputs": [
        {
          "output_type": "stream",
          "name": "stdout",
          "text": [
            "Name \"George Boole\" is more than 10 chars long\n",
            "Length description: semi long\n"
          ]
        }
      ]
    },
    {
      "cell_type": "markdown",
      "source": [
        "# Part 4 - Lists and dictionaries\n",
        "\n",
        "Lists and dictionaries make it super easy to keep a set of values tidy in one single variable. \n",
        "\n",
        "## Lists\n",
        "\n",
        "A list is defined as follows:\n",
        "\n",
        "`my_list = [1,2,3,4,5,6]`\n",
        "\n",
        "Let's say if we want to read the third element, we'd just need to say:\n",
        "\n",
        "`my_list[2]`\n",
        "\n",
        "*(Note that I put 2 there because remember first element is index 0)*\n",
        "\n",
        "Try creating a list and print one of it's elements"
      ],
      "metadata": {
        "id": "fmWFAtejpFQ_"
      }
    },
    {
      "cell_type": "code",
      "source": [
        "my_list = [1,2,3,4,5,6]\n",
        "my_list[2]"
      ],
      "metadata": {
        "id": "UvcFYwxLthVP",
        "outputId": "cfe656b1-ab49-4293-ba04-28426ca5e5d2",
        "colab": {
          "base_uri": "https://localhost:8080/"
        }
      },
      "execution_count": 118,
      "outputs": [
        {
          "output_type": "execute_result",
          "data": {
            "text/plain": [
              "3"
            ]
          },
          "metadata": {},
          "execution_count": 118
        }
      ]
    },
    {
      "cell_type": "markdown",
      "source": [
        "A list can be empty..."
      ],
      "metadata": {
        "id": "izf5NAXFth8a"
      }
    },
    {
      "cell_type": "code",
      "source": [
        "new_list = []\n",
        "\n",
        "if not new_list:\n",
        "  print(\"My list is empty :(\")"
      ],
      "metadata": {
        "id": "1rBBO321tuHX",
        "outputId": "01d2003a-3256-4b96-b084-7839090e5b9d",
        "colab": {
          "base_uri": "https://localhost:8080/"
        }
      },
      "execution_count": 165,
      "outputs": [
        {
          "output_type": "stream",
          "name": "stdout",
          "text": [
            "My list is empty :(\n"
          ]
        }
      ]
    },
    {
      "cell_type": "markdown",
      "source": [
        "And if we want to add to and remove elements from a list we already defined, we can use the `append` and `remove` function"
      ],
      "metadata": {
        "id": "1uBCB2TKt69P"
      }
    },
    {
      "cell_type": "code",
      "source": [
        "#append and remove\n",
        "new_list.append(4)\n",
        "new_list.append(3)\n",
        "new_list.append(99)\n",
        "new_list.remove(3)\n",
        "new_list.append(100)\n",
        "\n",
        "print(new_list)"
      ],
      "metadata": {
        "id": "hjfmbU5AuGfd",
        "outputId": "5fed3680-e551-44f3-9f2d-43807c58903e",
        "colab": {
          "base_uri": "https://localhost:8080/"
        }
      },
      "execution_count": 166,
      "outputs": [
        {
          "output_type": "stream",
          "name": "stdout",
          "text": [
            "[4, 99, 100]\n"
          ]
        }
      ]
    },
    {
      "cell_type": "markdown",
      "source": [
        "A length of a list can be obtained using the `len` function"
      ],
      "metadata": {
        "id": "9VVpzGKOuBeS"
      }
    },
    {
      "cell_type": "code",
      "source": [
        "print('list: {}, size: {}'.format(new_list, len(new_list)))"
      ],
      "metadata": {
        "id": "6dKz3rM6uVCY",
        "outputId": "7cb600a1-0c84-4352-c0e6-573a84006143",
        "colab": {
          "base_uri": "https://localhost:8080/"
        }
      },
      "execution_count": 167,
      "outputs": [
        {
          "output_type": "stream",
          "name": "stdout",
          "text": [
            "list: [4, 99, 100], size: 3\n"
          ]
        }
      ]
    },
    {
      "cell_type": "markdown",
      "source": [
        "We can modify or remove an element too"
      ],
      "metadata": {
        "id": "-TylO8Wluhq2"
      }
    },
    {
      "cell_type": "code",
      "source": [
        "my_list = [0, 1, 2, 3, 4, 5]\n",
        "print(my_list)\n",
        "\n",
        "print(\"\\nModify value at index 0 to 99\")\n",
        "my_list[0] = 99\n",
        "print(my_list)\n",
        "\n",
        "print(\"\\nRemove first value using del\")\n",
        "del my_list[4]\n",
        "print(my_list)"
      ],
      "metadata": {
        "id": "X5emHBxeuhCW",
        "outputId": "5776a44d-8cb8-4ee0-922d-a2317105eab0",
        "colab": {
          "base_uri": "https://localhost:8080/"
        }
      },
      "execution_count": 168,
      "outputs": [
        {
          "output_type": "stream",
          "name": "stdout",
          "text": [
            "[0, 1, 2, 3, 4, 5]\n",
            "\n",
            "Modify value at index 0 to 99\n",
            "[99, 1, 2, 3, 4, 5]\n",
            "\n",
            "Remove first value using del\n",
            "[99, 1, 2, 3, 5]\n"
          ]
        }
      ]
    },
    {
      "cell_type": "markdown",
      "source": [
        "It's very useful to check if a variable we want is in the list. \n",
        "\n",
        "For that we can use `in`"
      ],
      "metadata": {
        "id": "9qUn6jlawMyk"
      }
    },
    {
      "cell_type": "code",
      "source": [
        "languages = ['en', 'fr', 'tr', 'ar', 'sw']\n",
        "\n",
        "if 'tr' in languages:\n",
        "  print(\"Turkish is in the list\")\n",
        "\n",
        "if 'de' in languages:\n",
        "  print(\"German is in the list\")\n",
        "else:\n",
        "  print(\"German is not in the list\")\n",
        "\n",
        "if 'ro' not in languages:\n",
        "  print(\"Romanian is not in the list\")"
      ],
      "metadata": {
        "id": "C_gkxZ7JwTfE",
        "outputId": "aac62eb3-4522-4c4e-e7e0-40a531cb6d2b",
        "colab": {
          "base_uri": "https://localhost:8080/"
        }
      },
      "execution_count": 127,
      "outputs": [
        {
          "output_type": "stream",
          "name": "stdout",
          "text": [
            "Turkish is in the list\n",
            "German is not in the list\n",
            "Romanian is not in the list\n"
          ]
        }
      ]
    },
    {
      "cell_type": "markdown",
      "source": [
        "And finally, we can sort a list using `sort`"
      ],
      "metadata": {
        "id": "XrSZd__3y1k_"
      }
    },
    {
      "cell_type": "code",
      "source": [
        "numbers = [8, 1, 6, 5, 10]\n",
        "numbers.sort()\n",
        "print('sorted numbers:', numbers)\n",
        "\n",
        "numbers.sort(reverse=True)\n",
        "print('numbers reverse sorted:', numbers)\n",
        "\n",
        "words = ['this', 'is', 'a', 'list', 'of', 'words']\n",
        "words.sort()\n",
        "print('words:',words)"
      ],
      "metadata": {
        "id": "OoJbsQO_y-62",
        "outputId": "f78aa50c-700a-42e3-d974-167bc9670dda",
        "colab": {
          "base_uri": "https://localhost:8080/"
        }
      },
      "execution_count": 128,
      "outputs": [
        {
          "output_type": "stream",
          "name": "stdout",
          "text": [
            "sorted numbers: [1, 5, 6, 8, 10]\n",
            "numbers reverse sorted: [10, 8, 6, 5, 1]\n",
            "words: ['a', 'is', 'list', 'of', 'this', 'words']\n"
          ]
        }
      ]
    },
    {
      "cell_type": "markdown",
      "source": [
        "Merging lists are easy as 1,2,3"
      ],
      "metadata": {
        "id": "XbToOQQU0fZg"
      }
    },
    {
      "cell_type": "code",
      "source": [
        "old_star_wars = [4,5,6]\n",
        "new_star_wars = [1,2,3]\n",
        "\n",
        "all_star_wars = old_star_wars + new_star_wars\n",
        "print(all_star_wars)"
      ],
      "metadata": {
        "id": "ZeJCP2G_0zuk",
        "outputId": "27d7afa1-2542-47b1-aa10-d09f18d57375",
        "colab": {
          "base_uri": "https://localhost:8080/"
        }
      },
      "execution_count": 129,
      "outputs": [
        {
          "output_type": "stream",
          "name": "stdout",
          "text": [
            "[4, 5, 6, 1, 2, 3]\n"
          ]
        }
      ]
    },
    {
      "cell_type": "markdown",
      "source": [
        "# Challenge 5 - Lists\n",
        "\n",
        "Define an empty list called `challenge`. Add the elements:\n",
        "- `I`\n",
        "- `am`\n",
        "- `learning`\n",
        "- `Python`\n",
        "- `today`\n",
        "\n",
        "Replace the element `learning` with `loving`\n",
        "\n",
        "Remove the element `today`\n",
        "\n",
        "Sort the list"
      ],
      "metadata": {
        "id": "W8P3gxAMzzaC"
      }
    },
    {
      "cell_type": "code",
      "source": [
        "challenge = []\n",
        "\n",
        "challenge.append(\"I\")\n",
        "challenge.append(\"am\")\n",
        "challenge.append(\"learning\")\n",
        "challenge.append(\"Python\")\n",
        "challenge.append(\"today\")\n",
        "\n",
        "print(challenge)\n",
        "\n",
        "challenge[2] = \"loving\"\n",
        "\n",
        "print(challenge)\n",
        "\n",
        "#del challenge[4]\n",
        "challenge.remove(\"today\")\n",
        "\n",
        "print(challenge)\n",
        "\n",
        "challenge.sort()\n",
        "\n",
        "print(challenge)"
      ],
      "metadata": {
        "id": "0DZqDQvi1QVl",
        "outputId": "932b3dd3-41ea-456a-fd8c-00a3eecb617c",
        "colab": {
          "base_uri": "https://localhost:8080/"
        }
      },
      "execution_count": 135,
      "outputs": [
        {
          "output_type": "stream",
          "name": "stdout",
          "text": [
            "['I', 'am', 'learning', 'Python', 'today']\n",
            "['I', 'am', 'loving', 'Python', 'today']\n",
            "['I', 'am', 'loving', 'Python']\n",
            "['I', 'Python', 'am', 'loving']\n"
          ]
        }
      ]
    },
    {
      "cell_type": "code",
      "source": [
        "#Execute this cell to see if you did everything correctly\n",
        "assert challenge == ['I', 'Python', 'am', 'loving']"
      ],
      "metadata": {
        "id": "hT9kTCIBzjFE"
      },
      "execution_count": 136,
      "outputs": []
    },
    {
      "cell_type": "markdown",
      "source": [
        "## Dictionaries\n",
        "\n",
        "Dictionaries are key-value pairs. \n",
        "\n",
        "A dictionary is defined with curly brackets"
      ],
      "metadata": {
        "id": "I-pavyLh2HLc"
      }
    },
    {
      "cell_type": "code",
      "source": [
        "my_dict = {'a':'apple', 'b':'banana', 'c':'cherries'}\n",
        "print(my_dict)\n",
        "print(type(my_dict))"
      ],
      "metadata": {
        "id": "knyhNvnc22gB",
        "outputId": "321366eb-2f9b-4d80-f249-e8d57a856805",
        "colab": {
          "base_uri": "https://localhost:8080/"
        }
      },
      "execution_count": 137,
      "outputs": [
        {
          "output_type": "stream",
          "name": "stdout",
          "text": [
            "{'a': 'apple', 'b': 'banana', 'c': 'cherries'}\n",
            "<class 'dict'>\n"
          ]
        }
      ]
    },
    {
      "cell_type": "markdown",
      "source": [
        "We can read the elements using the keys that we defined"
      ],
      "metadata": {
        "id": "7EHy9uhz27tE"
      }
    },
    {
      "cell_type": "code",
      "source": [
        "my_dict['a']"
      ],
      "metadata": {
        "colab": {
          "base_uri": "https://localhost:8080/",
          "height": 36
        },
        "id": "kjqNhL2B2gLf",
        "outputId": "4fa48022-500e-4de8-f1da-567d019006cc"
      },
      "execution_count": 139,
      "outputs": [
        {
          "output_type": "execute_result",
          "data": {
            "application/vnd.google.colaboratory.intrinsic+json": {
              "type": "string"
            },
            "text/plain": [
              "'apple'"
            ]
          },
          "metadata": {},
          "execution_count": 139
        }
      ]
    },
    {
      "cell_type": "markdown",
      "source": [
        "Or modify them"
      ],
      "metadata": {
        "id": "Qs-HukQC2s7U"
      }
    },
    {
      "cell_type": "code",
      "source": [
        "my_dict['b'] = 'berries'\n",
        "print(my_dict)"
      ],
      "metadata": {
        "colab": {
          "base_uri": "https://localhost:8080/"
        },
        "id": "4g9PHXTw2t95",
        "outputId": "4a93d802-1599-4bc9-a831-c6e8d589cc56"
      },
      "execution_count": 140,
      "outputs": [
        {
          "output_type": "stream",
          "name": "stdout",
          "text": [
            "{'a': 'apple', 'b': 'berries', 'c': 'cherries'}\n"
          ]
        }
      ]
    },
    {
      "cell_type": "markdown",
      "source": [
        "# Part 5 - Loops\n",
        "\n",
        "Sometimes there are too many variables that we need to automate their processing. Loops come in handy when we want to perform a repeated task. \n",
        "\n",
        "We usually iterate through a list's items. \n",
        "\n",
        "The keyword conventionally used in programming is `for`. \n",
        "\n",
        "when we say `for item in my_list`, I get the elements from `my_list` one by one into a variable called `item` which is only accessible within that loop step.\n",
        "\n",
        "Let's do a simple printing example"
      ],
      "metadata": {
        "id": "0A1_UjLnqf6F"
      }
    },
    {
      "cell_type": "code",
      "source": [
        "my_list = [1, 2, 3, 4, 'Python', 'is', 'neat']\n",
        "#Print items in list\n",
        "\n",
        "for item in my_list:\n",
        "  print(item)"
      ],
      "metadata": {
        "id": "KljofpR14sHw",
        "outputId": "f2e0f316-30a0-4573-f285-edb814bf1e62",
        "colab": {
          "base_uri": "https://localhost:8080/"
        }
      },
      "execution_count": 141,
      "outputs": [
        {
          "output_type": "stream",
          "name": "stdout",
          "text": [
            "1\n",
            "2\n",
            "3\n",
            "4\n",
            "Python\n",
            "is\n",
            "neat\n"
          ]
        }
      ]
    },
    {
      "cell_type": "markdown",
      "source": [
        "# Challenge 6 - loops and dictionaries\n",
        "\n",
        "Given our list of fruits, transfer them into a dictionary using their first letters as key \n",
        "\n",
        "For example:\n",
        "\n",
        "Given list `['apple', 'pear', 'cherry']`\n",
        "\n",
        "Make dictionary `{'a':'apple', 'p':'pear', 'c':'cherry'}`"
      ],
      "metadata": {
        "id": "zN2DH-ID5TBi"
      }
    },
    {
      "cell_type": "code",
      "source": [
        "#Fill in the blanks\n",
        "fruits = ['cantaloop', 'cherries', 'mango', 'papaya', 'pomegranade']\n",
        "fruit_dictionary = {}\n",
        "\n",
        "for item in fruits:\n",
        "  first_letter = item[0]\n",
        "  fruit_dictionary[first_letter] = item\n",
        "\n",
        "print(fruit_dictionary)"
      ],
      "metadata": {
        "id": "U_NeWt7xw2D3",
        "outputId": "8681bd69-3b06-4db1-fbe1-ac81eccd6609",
        "colab": {
          "base_uri": "https://localhost:8080/"
        }
      },
      "execution_count": 142,
      "outputs": [
        {
          "output_type": "stream",
          "name": "stdout",
          "text": [
            "{'c': 'cherries', 'm': 'mango', 'p': 'pomegranade'}\n"
          ]
        }
      ]
    },
    {
      "cell_type": "code",
      "source": [
        "#Execute this to see if you get it right\n",
        "assert fruit_dictionary == {'c': 'cantaloop', 'p': 'pomegranade', 'm': 'mango'}"
      ],
      "metadata": {
        "id": "2BSMwyjlxHwG"
      },
      "execution_count": null,
      "outputs": []
    },
    {
      "cell_type": "markdown",
      "source": [
        "# Challenge 6b - List inside dictionary (Home exercise)\n",
        "\n",
        "As you have noticed, because the keys clashed in the previous exercise, we lost some fruits that were in the original list. \n",
        "\n",
        "Edit the code so that we keep all fruits under the same key. \n",
        "\n",
        "The final dictionary should look like this:\n",
        "\n",
        "`fruit_dictionary = {'c': ['cantaloop', 'cherries], 'p': ['papaya', 'pomegranade'], 'm': ['mango']}`\n",
        "\n",
        "You can check if a key is inside dictionary with:\n",
        "`if k in my_dict`"
      ],
      "metadata": {
        "id": "736RV9v1yAah"
      }
    },
    {
      "cell_type": "code",
      "source": [
        "fruit_dictionary = {}\n",
        "\n",
        "for item in fruits:\n",
        "  first_letter = item[0]\n",
        "  if first_letter in fruit_dictionary:\n",
        "    fruit_dictionary[first_letter].append(item)\n",
        "  else:\n",
        "    fruit_dictionary[first_letter] = []\n",
        "    fruit_dictionary[first_letter].append(item)\n",
        "\n",
        "print(fruit_dictionary)"
      ],
      "metadata": {
        "id": "alSSJlrux9kn",
        "outputId": "ae6c332e-fda3-40c6-b6b2-653cb342c4c1",
        "colab": {
          "base_uri": "https://localhost:8080/"
        }
      },
      "execution_count": 173,
      "outputs": [
        {
          "output_type": "stream",
          "name": "stdout",
          "text": [
            "{'c': ['cantaloop', 'cherries'], 'm': ['mango'], 'p': ['papaya', 'pomegranade']}\n"
          ]
        }
      ]
    },
    {
      "cell_type": "markdown",
      "source": [
        "# Part 6- Functions\n",
        "\n",
        "A function is a replicable procedure to perform a specific task. It's very useful when we're going to perform one task repeatedly or in different parts of our code. \n",
        "\n",
        "Functions are declared with the keyword `def` followed by function name and then function parameters\n",
        "\n",
        "```\n",
        "def my_function(parameter1, parameter2)\n",
        "  #Stuff that my function will do\n",
        "```\n",
        "\n",
        "Let's write a function that we can use to greet "
      ],
      "metadata": {
        "id": "Qj6Qpwn0pGhX"
      }
    },
    {
      "cell_type": "code",
      "source": [
        "#Greet function\n",
        "def greet():\n",
        "  print(\"Hello!\")"
      ],
      "metadata": {
        "id": "zZ2vvVZt0cXb"
      },
      "execution_count": 143,
      "outputs": []
    },
    {
      "cell_type": "markdown",
      "source": [
        "Now, let's call that function..."
      ],
      "metadata": {
        "id": "sguJ90Kd85aI"
      }
    },
    {
      "cell_type": "code",
      "source": [
        "greet()"
      ],
      "metadata": {
        "id": "Xvm3Snhd36kJ",
        "outputId": "7a7b6d72-d629-41a0-e56b-50f89fac73dd",
        "colab": {
          "base_uri": "https://localhost:8080/"
        }
      },
      "execution_count": 144,
      "outputs": [
        {
          "output_type": "stream",
          "name": "stdout",
          "text": [
            "Hello!\n"
          ]
        }
      ]
    },
    {
      "cell_type": "markdown",
      "source": [
        "Now let's use our name with it by letting it as a parameter"
      ],
      "metadata": {
        "id": "SCkRFwQB38m9"
      }
    },
    {
      "cell_type": "code",
      "source": [
        "def greet(username):\n",
        "  print(\"Hello\", username)"
      ],
      "metadata": {
        "id": "jZrFLJhx3-ft"
      },
      "execution_count": 145,
      "outputs": []
    },
    {
      "cell_type": "code",
      "source": [
        "greet(\"Alp\")"
      ],
      "metadata": {
        "id": "4fvirEjL4D3-",
        "outputId": "c028301a-c870-4cea-842c-caefb64ab263",
        "colab": {
          "base_uri": "https://localhost:8080/"
        }
      },
      "execution_count": 146,
      "outputs": [
        {
          "output_type": "stream",
          "name": "stdout",
          "text": [
            "Hello Alp\n"
          ]
        }
      ]
    },
    {
      "cell_type": "markdown",
      "source": [
        "Functions can return values too.\n",
        "\n",
        "Let's make a function that gives out the square of the number we give to it."
      ],
      "metadata": {
        "id": "IoL4MSLx3--V"
      }
    },
    {
      "cell_type": "code",
      "source": [
        "def square(n):\n",
        "  n_squared = n**2\n",
        "  return n_squared"
      ],
      "metadata": {
        "id": "5SgW3-fi4brg"
      },
      "execution_count": 147,
      "outputs": []
    },
    {
      "cell_type": "code",
      "source": [
        "square(5)"
      ],
      "metadata": {
        "id": "WVx3317H4TEn",
        "outputId": "bb9103cd-5782-4a81-e6b5-a32bac4155f0",
        "colab": {
          "base_uri": "https://localhost:8080/"
        }
      },
      "execution_count": 149,
      "outputs": [
        {
          "output_type": "execute_result",
          "data": {
            "text/plain": [
              "25"
            ]
          },
          "metadata": {},
          "execution_count": 149
        }
      ]
    },
    {
      "cell_type": "markdown",
      "source": [
        "See, when we have a long array and we want to perform our function to all elements we can just create a loop and call our function to do its magic"
      ],
      "metadata": {
        "id": "hHnh0Y9S4c8S"
      }
    },
    {
      "cell_type": "code",
      "source": [
        "my_numbers = [1,2,3,4,5,6,7]\n",
        "my_numbers_squared = []\n",
        "\n",
        "for n in my_numbers:\n",
        "  print(square(n))\n",
        "  my_numbers_squared.append(square(n))\n",
        "\n",
        "print(my_numbers_squared)"
      ],
      "metadata": {
        "id": "bgvdp7swNycc",
        "outputId": "fcfc03ca-7c84-4896-a84b-601390409dea",
        "colab": {
          "base_uri": "https://localhost:8080/"
        }
      },
      "execution_count": 151,
      "outputs": [
        {
          "output_type": "stream",
          "name": "stdout",
          "text": [
            "1\n",
            "4\n",
            "9\n",
            "16\n",
            "25\n",
            "36\n",
            "49\n",
            "[1, 4, 9, 16, 25, 36, 49]\n"
          ]
        }
      ]
    },
    {
      "cell_type": "markdown",
      "source": [
        "# Challenge 7 - Searching for wanted people\n",
        "\n",
        "Implement `find_wanted_people` function which takes a list of names (strings) as argument. The function should return a list of names which are present both in `WANTED_PEOPLE` and in the name list given as argument to the function."
      ],
      "metadata": {
        "id": "kfZtV_JO4nqc"
      }
    },
    {
      "cell_type": "code",
      "source": [
        "WANTED_PEOPLE = ['John Doe', 'Clint Eastwood', 'Chuck Norris']"
      ],
      "metadata": {
        "id": "w6E3Ni5I5MdO"
      },
      "execution_count": 175,
      "outputs": []
    },
    {
      "cell_type": "code",
      "source": [
        "def find_wanted_people(people_list):\n",
        "  wanted = []\n",
        "  for person in people_list:\n",
        "    if person in WANTED_PEOPLE:\n",
        "      wanted.append(person)\n",
        "  return wanted"
      ],
      "metadata": {
        "id": "1QEBo_f75Nhb"
      },
      "execution_count": 174,
      "outputs": []
    },
    {
      "cell_type": "code",
      "source": [
        "#Execute this cell to see if you did it right\n",
        "people_to_check1 = ['Donald Duck', 'Clint Eastwood', 'John Doe', 'Barack Obama']\n",
        "wanted1 = find_wanted_people(people_to_check1)\n",
        "assert len(wanted1) == 2\n",
        "assert 'John Doe' in wanted1\n",
        "assert 'Clint Eastwood'in wanted1\n",
        "\n",
        "people_to_check2 = ['Donald Duck', 'Mickey Mouse', 'Zorro', 'Superman', 'Robin Hood']\n",
        "wanted2 = find_wanted_people(people_to_check2)\n",
        "assert wanted2 == []"
      ],
      "metadata": {
        "id": "vCmBJ8hj5YA3"
      },
      "execution_count": 176,
      "outputs": []
    },
    {
      "cell_type": "markdown",
      "source": [
        "# Part 7 - Packages\n",
        "\n",
        "What we presented above was the core basics of python. You might be thinking how can these simple tools can help with our complicated tasks. \n",
        "\n",
        "There seems to be a huge gap right? \n",
        "\n",
        "Well, yes there is but you don't have to worry that much. Another miracle of Python is that it is modular. \n",
        "\n",
        "What does modular mean?\n",
        "\n",
        "It means if I want to perform task X, it is highly probable that someone out there wrote a code for it that I can just plug it in my code. \n",
        "\n",
        "In Python, this is standardized through packages. \n",
        "\n",
        "Ever heard of the saying *\"There's an app for it?\"*\n",
        "\n",
        "Well in python **\"There's a package for it!\"**\n",
        "\n",
        "There are thousands of packages that can help you solve tasks like:\n",
        "\n",
        "- Reading and manipulating Google spreadsheets\n",
        "- Process TMX, XML etc.\n",
        "- Clean text from emoji etc.\n",
        "- Build a machine translation model (more on this on Friday!)\n",
        "- Whatever you might imagine...\n",
        "\n",
        "Some of these packages come readily with our Python installation. \n",
        "\n",
        "And the rest can be found in sites like https://pypi.org/ and installed with one line of command. "
      ],
      "metadata": {
        "id": "9Q7RQ-nWpN2H"
      }
    },
    {
      "cell_type": "markdown",
      "source": [
        "One very useful package is the \"Regular expressions\" package.\n",
        "\n",
        "We're not going to go deep into regex. You can find a reference here --> https://www.tutorialspoint.com/python/python_reg_expressions.htm\n",
        "\n",
        "To be able to use a package, all we need to do is import it"
      ],
      "metadata": {
        "id": "AIx5ZDLpEHmG"
      }
    },
    {
      "cell_type": "code",
      "source": [
        "import re"
      ],
      "metadata": {
        "id": "SN88atgEEX13"
      },
      "execution_count": 180,
      "outputs": []
    },
    {
      "cell_type": "markdown",
      "source": [
        "Then we can perform its functions. \n",
        "\n",
        "Two of the most important of these are:\n",
        "\n",
        "- `re.match` for checking if a string matches a pattern\n",
        "- `re.search` for searching for a pattern in string\n",
        "- `re.sub` for replacing a matched pattern in a string with some other string"
      ],
      "metadata": {
        "id": "A-0va5C_FAUC"
      }
    },
    {
      "cell_type": "markdown",
      "source": [
        "## `re.search(pattern, string)`\n",
        "\n",
        "Let's search for a telephone number in a string"
      ],
      "metadata": {
        "id": "qtQBIX43HeOs"
      }
    },
    {
      "cell_type": "code",
      "source": [
        "telephone_entry = \"Here's the phone number of the pizza shop: 555-4351. Order a napolitana for me. \"\n",
        "\n",
        "searchObj = re.search(\"[0-9][0-9][0-9]-*[0-9][0-9][0-9][0-9]\", telephone_entry)\n",
        "print(searchObj.group(0))"
      ],
      "metadata": {
        "id": "lJKMtPcEIZ3P",
        "outputId": "99879232-0fee-408a-9fc1-660dcd499124",
        "colab": {
          "base_uri": "https://localhost:8080/"
        }
      },
      "execution_count": 181,
      "outputs": [
        {
          "output_type": "stream",
          "name": "stdout",
          "text": [
            "555-4351\n"
          ]
        }
      ]
    },
    {
      "cell_type": "markdown",
      "source": [
        "`re.match(pattern, string)`\n",
        "\n",
        "Let's check if `555-4351` is a proper formatted telephone number"
      ],
      "metadata": {
        "id": "7TRU07dxJZJg"
      }
    },
    {
      "cell_type": "code",
      "source": [
        "telephone_number = \"555-4351\"\n",
        "\n",
        "matchObj = re.match(\"[0-9][0-9][0-9]-*[0-9][0-9][0-9][0-9]\", telephone_number)\n",
        "print(matchObj.group(0))"
      ],
      "metadata": {
        "id": "pjhwQ66ZJYXD",
        "outputId": "8f93286a-da5d-4db7-bbc2-b2f68934b483",
        "colab": {
          "base_uri": "https://localhost:8080/"
        }
      },
      "execution_count": 183,
      "outputs": [
        {
          "output_type": "stream",
          "name": "stdout",
          "text": [
            "555-4351\n"
          ]
        }
      ]
    },
    {
      "cell_type": "markdown",
      "source": [
        "# `re.sub(pattern, repl, string, max=0)`\n",
        "\n",
        "Imagine our client wants personal data like telephone numbers to be obfuscated. "
      ],
      "metadata": {
        "id": "F7NXnxmOK4ts"
      }
    },
    {
      "cell_type": "code",
      "source": [
        "my_personal_string = \"My personal number is 555-1234.\"\n",
        "\n",
        "re.sub(\"[0-9][0-9][0-9]-*[0-9][0-9][0-9][0-9]\", \"<hidden>\", my_personal_string)"
      ],
      "metadata": {
        "id": "7mFmAci8LO2e",
        "outputId": "15a3ee13-edb7-4bc9-c879-e22c5badcd1a",
        "colab": {
          "base_uri": "https://localhost:8080/",
          "height": 36
        }
      },
      "execution_count": 186,
      "outputs": [
        {
          "output_type": "execute_result",
          "data": {
            "application/vnd.google.colaboratory.intrinsic+json": {
              "type": "string"
            },
            "text/plain": [
              "'My personal number is <hidden>.'"
            ]
          },
          "metadata": {},
          "execution_count": 186
        }
      ]
    },
    {
      "cell_type": "markdown",
      "source": [
        "# Final challenge\n",
        "\n",
        "Now that we're Python experts, we can come through some real challenges, right??\n",
        "\n",
        "In this final challenge, we're going to fix some highly challenging documents which a client has asked us to translate. \n",
        "\n",
        "You can download them from this links:\n",
        "- https://github.com/alpoktem/python-workshop/raw/main/challenge_data/Programming.docx\n",
        "- https://github.com/alpoktem/python-workshop/raw/main/challenge_data/Python.docx\n",
        "\n",
        "Next, we're going to put them in our Colab workspace using the Files menu on the left. "
      ],
      "metadata": {
        "id": "XAktEr7pqaJ7"
      }
    },
    {
      "cell_type": "markdown",
      "source": [
        "It is always good to think about the task before embarking on any coding. \n",
        "\n",
        "A programmer always thinks in terms of input and output. Let's define them first:\n",
        "\n",
        "INPUT: 2 docx Word documents with badly formatted text\n",
        "\n",
        "OUTPUT: 2 docx Word documents with format corrected text"
      ],
      "metadata": {
        "id": "KAe0WqX_CFpX"
      }
    },
    {
      "cell_type": "markdown",
      "source": [
        "Once we know the beginning and ending of our procedure, we can start thinking about the intermediate steps.\n",
        "\n",
        "1. Read the documents \n",
        "2. Clean the text\n",
        "3. Output cleaned documents"
      ],
      "metadata": {
        "id": "kTAfvtkBCo_S"
      }
    },
    {
      "cell_type": "markdown",
      "source": [
        "To accomplish these tasks, two Python packages come to our help:\n",
        "\n",
        "1. `clean-text` for normalizing text https://pypi.org/project/clean-text/\n",
        "2. `docx` for reading and writing word documents https://python-docx.readthedocs.io/en/latest/index.html\n",
        "\n",
        "We're going to get help from this tutorial when using `docx`: https://tech-cookbook.com/2019/10/21/how-to-work-with-docx-in-python/"
      ],
      "metadata": {
        "id": "LjS-oD4qDBhQ"
      }
    },
    {
      "cell_type": "markdown",
      "source": [
        "These two packages are not included in the standard Python distribution. So we have to install them. We can install a package using this command:\n",
        "\n",
        "`!pip install <package-name>`\n",
        "\n",
        "Let's install these two packages: "
      ],
      "metadata": {
        "id": "FNUYToVmDkdP"
      }
    },
    {
      "cell_type": "code",
      "source": [
        "!pip install clean-text"
      ],
      "metadata": {
        "id": "yqTdEF9jpUcq",
        "outputId": "b9f2f92d-fe2d-4f8b-b930-523735e758b9",
        "colab": {
          "base_uri": "https://localhost:8080/"
        }
      },
      "execution_count": 187,
      "outputs": [
        {
          "output_type": "stream",
          "name": "stdout",
          "text": [
            "Collecting clean-text\n",
            "  Downloading clean_text-0.5.0-py3-none-any.whl (9.8 kB)\n",
            "Collecting ftfy<7.0,>=6.0\n",
            "  Downloading ftfy-6.0.3.tar.gz (64 kB)\n",
            "\u001b[K     |████████████████████████████████| 64 kB 2.2 MB/s \n",
            "\u001b[?25hCollecting emoji\n",
            "  Downloading emoji-1.6.3.tar.gz (174 kB)\n",
            "\u001b[K     |████████████████████████████████| 174 kB 18.4 MB/s \n",
            "\u001b[?25hRequirement already satisfied: wcwidth in /usr/local/lib/python3.7/dist-packages (from ftfy<7.0,>=6.0->clean-text) (0.2.5)\n",
            "Building wheels for collected packages: ftfy, emoji\n",
            "  Building wheel for ftfy (setup.py) ... \u001b[?25l\u001b[?25hdone\n",
            "  Created wheel for ftfy: filename=ftfy-6.0.3-py3-none-any.whl size=41933 sha256=4f224727db0071cefec4f444d1a5bf7fcb382f2cf3125a97920796b2f57afd5e\n",
            "  Stored in directory: /root/.cache/pip/wheels/19/f5/38/273eb3b5e76dfd850619312f693716ac4518b498f5ffb6f56d\n",
            "  Building wheel for emoji (setup.py) ... \u001b[?25l\u001b[?25hdone\n",
            "  Created wheel for emoji: filename=emoji-1.6.3-py3-none-any.whl size=170298 sha256=2d975d1998f113703dafab3cb779f164ef80d242d2c7f385e1a94075f61e7434\n",
            "  Stored in directory: /root/.cache/pip/wheels/03/8b/d7/ad579fbef83c287215c0caab60fb0ae0f30c4d7ce5f580eade\n",
            "Successfully built ftfy emoji\n",
            "Installing collected packages: ftfy, emoji, clean-text\n",
            "Successfully installed clean-text-0.5.0 emoji-1.6.3 ftfy-6.0.3\n"
          ]
        }
      ]
    },
    {
      "cell_type": "code",
      "source": [
        "!pip install python-docx"
      ],
      "metadata": {
        "id": "AEveQytyD1Kk",
        "outputId": "102ce33d-73fd-4f56-bda8-038cc231af03",
        "colab": {
          "base_uri": "https://localhost:8080/"
        }
      },
      "execution_count": 188,
      "outputs": [
        {
          "output_type": "stream",
          "name": "stdout",
          "text": [
            "Collecting python-docx\n",
            "  Downloading python-docx-0.8.11.tar.gz (5.6 MB)\n",
            "\u001b[K     |████████████████████████████████| 5.6 MB 7.3 MB/s \n",
            "\u001b[?25hRequirement already satisfied: lxml>=2.3.2 in /usr/local/lib/python3.7/dist-packages (from python-docx) (4.2.6)\n",
            "Building wheels for collected packages: python-docx\n",
            "  Building wheel for python-docx (setup.py) ... \u001b[?25l\u001b[?25hdone\n",
            "  Created wheel for python-docx: filename=python_docx-0.8.11-py3-none-any.whl size=184507 sha256=08337c371bac17fe65823c8770ac2e3939d2395a924d47c539e078198fd99aa2\n",
            "  Stored in directory: /root/.cache/pip/wheels/f6/6f/b9/d798122a8b55b74ad30b5f52b01482169b445fbb84a11797a6\n",
            "Successfully built python-docx\n",
            "Installing collected packages: python-docx\n",
            "Successfully installed python-docx-0.8.11\n"
          ]
        }
      ]
    },
    {
      "cell_type": "markdown",
      "source": [
        "Let's play around with the `clean-text` package. We can see its basic usage in its website. "
      ],
      "metadata": {
        "id": "zYIYRY60FYtZ"
      }
    },
    {
      "cell_type": "code",
      "source": [
        "from cleantext import clean\n",
        "clean(\"A bunch of \\\\u2018new\\\\u2019 references, including [Moana](https://en.wikipedia.org/wiki/Moana_%282016_film%29).\")"
      ],
      "metadata": {
        "id": "z-YJmxFeFXwT",
        "outputId": "be3e8d3a-db49-4177-86bb-77afd727d972",
        "colab": {
          "base_uri": "https://localhost:8080/",
          "height": 55
        }
      },
      "execution_count": 189,
      "outputs": [
        {
          "output_type": "stream",
          "name": "stderr",
          "text": [
            "Since the GPL-licensed package `unidecode` is not installed, using Python's `unicodedata` package which yields worse results.\n"
          ]
        },
        {
          "output_type": "execute_result",
          "data": {
            "application/vnd.google.colaboratory.intrinsic+json": {
              "type": "string"
            },
            "text/plain": [
              "\"a bunch of 'new' references, including [moana](https://en.wikipedia.org/wiki/moana_%282016_film%29).\""
            ]
          },
          "metadata": {},
          "execution_count": 189
        }
      ]
    },
    {
      "cell_type": "markdown",
      "source": [
        "The same way, let's familiarize ourself with the `python-docx` package. "
      ],
      "metadata": {
        "id": "A43__1MVFqTr"
      }
    },
    {
      "cell_type": "code",
      "source": [
        "from docx import Document\n",
        "document = Document('Python.docx')"
      ],
      "metadata": {
        "id": "cTkcTkBbEXh_"
      },
      "execution_count": 192,
      "outputs": []
    },
    {
      "cell_type": "code",
      "source": [
        "for paragraph in document.paragraphs:\n",
        "  print(paragraph.text)"
      ],
      "metadata": {
        "id": "gYrOPZAc_WFa",
        "outputId": "bfed54cd-b89e-44f6-c3f7-f79d9ec61f01",
        "colab": {
          "base_uri": "https://localhost:8080/"
        }
      },
      "execution_count": 194,
      "outputs": [
        {
          "output_type": "stream",
          "name": "stdout",
          "text": [
            "⭐️Python⭐️ ïs àn ïnterpreted hïgh\\u002dlevel ğeneràl\\u002dpurpose progràmmïng lànguàge. ïts desïgn phïlosophy emphàsïzes code reàdàbïlïty Wïth ïts use of sïgnïfïcànt ïndentàtïon. ïts lànguàge constructs às Well às ïts object\\u002dorïented àpproàch àïm to help progràmmers Wrïte cleàr, logïcàl code for smàll ànd làrge\\u002dscàle projects.\\u005b30\\u005d ☹︎\n",
            "⭐️Python⭐️ ïs dynàmïcàlly\\u002dtyped ànd gàrbàge\\u002dcollected. ït supports multïple progràmmïng pàràdïgms, ïncludïng 🃏structured (pàrtïculàrly, proceduràl), object\\u002dorïented ànd functïonàl progràmmïng. ït ïs often descrïbed às à \\u2018bàtterïes ïncluded\\u2019 lànguàge due to ïts comprehensïve stàndàrd lïbràry.\\u005b31\\u005d\\u005b32\\u005d\n",
            "Guïdo vàn Rossum begàn Workïng on Python ïn the làte 1980s, às à successor to the àBC progràmmïng lànguàge, ànd fïrst releàsed ☹︎ ☹︎ ☹︎ ☹︎ ït ïn 1991 às ⭐️Python⭐️ 0.9.0.\\u005b33\\u005d Python 2.0 Wàs releàsed ïn 2000 ànd ïntroduced neW feàtures, such às lïst comprehensïons ànd à cycle\\u002ddetectïng gàrbàge collectïon system (ïn àddïtïon to reference countïng). ⭐️Python 3.0 ⭐️Wàs releàsed ïn 2008 ànd Wàs à màjor revïsïon of the lànguàge thàt ïs not completely bàckWàrd\\u002dcompàtïble. Python 2 Wàs dïscontïnued Wïth versïon 2.7.18 ïn 2020.\\u005b34\\u005d\n",
            "⭐️Python⭐️ consïstently rànks às one of the most populàr proğràmmïng lànguàges.\\u005b35\\u005d\\u005b36\\u005d\\u005b37\\u005d\\u005b38\\u005d ⭐️\n",
            "\n",
            "\n",
            "\n",
            "\n"
          ]
        }
      ]
    },
    {
      "cell_type": "markdown",
      "source": [
        "Let's start by writing a function that reads paragraphs of a document into a list"
      ],
      "metadata": {
        "id": "-oWTBl7mFy5J"
      }
    },
    {
      "cell_type": "code",
      "source": [
        "def doc_to_list(doc_path):\n",
        "  document = Document(doc_path)\n",
        "  paragraphs = []\n",
        "  for p in document.paragraphs:\n",
        "    paragraphs.append(p.text)\n",
        "  return paragraphs"
      ],
      "metadata": {
        "id": "tbg1Mo4zF_99"
      },
      "execution_count": 198,
      "outputs": []
    },
    {
      "cell_type": "code",
      "source": [
        "doc1_content = doc_to_list(\"Python.docx\")\n",
        "print(doc1_content)"
      ],
      "metadata": {
        "id": "rsr351Lz_6_I",
        "outputId": "edf17ca9-7979-4a24-af81-4b7c3fc17af4",
        "colab": {
          "base_uri": "https://localhost:8080/"
        }
      },
      "execution_count": 199,
      "outputs": [
        {
          "output_type": "stream",
          "name": "stdout",
          "text": [
            "['⭐️Python⭐️ ïs àn ïnterpreted hïgh\\\\u002dlevel ğeneràl\\\\u002dpurpose progràmmïng lànguàge. ïts desïgn phïlosophy emphàsïzes code reàdàbïlïty Wïth ïts use of sïgnïfïcànt ïndentàtïon. ïts lànguàge constructs às Well às ïts object\\\\u002dorïented àpproàch àïm to help progràmmers Wrïte cleàr, logïcàl code for smàll ànd làrge\\\\u002dscàle projects.\\\\u005b30\\\\u005d ☹︎', '⭐️Python⭐️ ïs dynàmïcàlly\\\\u002dtyped ànd gàrbàge\\\\u002dcollected. ït supports multïple progràmmïng pàràdïgms, ïncludïng 🃏structured (pàrtïculàrly, proceduràl), object\\\\u002dorïented ànd functïonàl progràmmïng. ït ïs often descrïbed às à \\\\u2018bàtterïes ïncluded\\\\u2019 lànguàge due to ïts comprehensïve stàndàrd lïbràry.\\\\u005b31\\\\u005d\\\\u005b32\\\\u005d', 'Guïdo vàn Rossum begàn Workïng on Python ïn the làte 1980s, às à successor to the àBC progràmmïng lànguàge, ànd fïrst releàsed ☹︎ ☹︎ ☹︎ ☹︎ ït ïn 1991 às ⭐️Python⭐️ 0.9.0.\\\\u005b33\\\\u005d Python 2.0 Wàs releàsed ïn 2000 ànd ïntroduced neW feàtures, such às lïst comprehensïons ànd à cycle\\\\u002ddetectïng gàrbàge collectïon system (ïn àddïtïon to reference countïng). ⭐️Python 3.0 ⭐️Wàs releàsed ïn 2008 ànd Wàs à màjor revïsïon of the lànguàge thàt ïs not completely bàckWàrd\\\\u002dcompàtïble. Python 2 Wàs dïscontïnued Wïth versïon 2.7.18 ïn 2020.\\\\u005b34\\\\u005d', '⭐️Python⭐️ consïstently rànks às one of the most populàr proğràmmïng lànguàges.\\\\u005b35\\\\u005d\\\\u005b36\\\\u005d\\\\u005b37\\\\u005d\\\\u005b38\\\\u005d ⭐️', '', '', '', '']\n"
          ]
        }
      ]
    },
    {
      "cell_type": "markdown",
      "source": [
        "Now let's create another function that processes the strings in a list and outputs another list"
      ],
      "metadata": {
        "id": "D1kPOJySGAiG"
      }
    },
    {
      "cell_type": "code",
      "source": [
        "def clean_string_list(str_list):\n",
        "  clean_list = []\n",
        "  for l in str_list:\n",
        "    clean_list.append(clean(l.strip()))\n",
        "  return clean_list"
      ],
      "metadata": {
        "id": "8Heh_HMFGP1u"
      },
      "execution_count": 205,
      "outputs": []
    },
    {
      "cell_type": "code",
      "source": [
        "doc1_content_cleaned = clean_string_list(doc1_content)\n",
        "print(doc1_content_cleaned)"
      ],
      "metadata": {
        "id": "XslmvGbaAieh",
        "outputId": "479b1306-e017-4cc0-aae6-b0fb0668eb2f",
        "colab": {
          "base_uri": "https://localhost:8080/"
        }
      },
      "execution_count": 202,
      "outputs": [
        {
          "output_type": "stream",
          "name": "stdout",
          "text": [
            "['⭐python⭐ is an interpreted high-level general-purpose programming language. its design philosophy emphasizes code readability with its use of significant indentation. its language constructs as well as its object-oriented approach aim to help programmers write clear, logical code for small and large-scale projects.[30] ☹️', \"⭐python⭐ is dynamically-typed and garbage-collected. it supports multiple programming paradigms, including 🃏structured (particularly, procedural), object-oriented and functional programming. it is often described as a 'batteries included' language due to its comprehensive standard library.[31][32]\", 'guido van rossum began working on python in the late 1980s, as a successor to the abc programming language, and first released ☹️ ☹️ ☹️ ☹️ it in 1991 as ⭐python⭐ 0.9.0.[33] python 2.0 was released in 2000 and introduced new features, such as list comprehensions and a cycle-detecting garbage collection system (in addition to reference counting). ⭐python 3.0 ⭐was released in 2008 and was a major revision of the language that is not completely backward-compatible. python 2 was discontinued with version 2.7.18 in 2020.[34]', '⭐python⭐ consistently ranks as one of the most popular programming languages.[35][36][37][38] ⭐', '', '', '', '']\n"
          ]
        }
      ]
    },
    {
      "cell_type": "markdown",
      "source": [
        "And finally, let's write a function that creates a document from our list of strings and writes it into a new document"
      ],
      "metadata": {
        "id": "VkV9akz3GS2E"
      }
    },
    {
      "cell_type": "code",
      "source": [
        "def str_list_to_doc(str_list, new_doc_name):\n",
        "  document = Document()\n",
        "  for s in str_list:\n",
        "    document.add_paragraph(s)\n",
        "  document.save(new_doc_name)"
      ],
      "metadata": {
        "id": "gNCwhEhyGezz"
      },
      "execution_count": 203,
      "outputs": []
    },
    {
      "cell_type": "code",
      "source": [
        "str_list_to_doc(doc1_content_cleaned, \"Python_clean.docx\")"
      ],
      "metadata": {
        "id": "662RBhQIA98g"
      },
      "execution_count": 204,
      "outputs": []
    },
    {
      "cell_type": "markdown",
      "source": [
        "OK! So far so good, let's see the result for one document. Download and look at `Python_clean.docx`"
      ],
      "metadata": {
        "id": "TR3NMPx8Gher"
      }
    },
    {
      "cell_type": "markdown",
      "source": [
        "And now, we can extend the same code to process ALL documents! "
      ],
      "metadata": {
        "id": "3zZj27fWGqy8"
      }
    },
    {
      "cell_type": "code",
      "source": [
        "all_documents = [\"Python.docx\", \"Programming.docx\"]\n",
        "\n",
        "for doc in all_documents:\n",
        "  doc_content = doc_to_list(doc)\n",
        "  doc_content_cleaned = clean_string_list(doc_content)\n",
        "\n",
        "  new_doc_name = doc+\"_clean.docx\"\n",
        "  str_list_to_doc(doc_content_cleaned,   new_doc_name = doc+\"_clean.docx\")"
      ],
      "metadata": {
        "id": "orR7rnYHGwy_"
      },
      "execution_count": 206,
      "outputs": []
    },
    {
      "cell_type": "markdown",
      "source": [
        "Voila! Our documents are now ready to be translated! "
      ],
      "metadata": {
        "id": "_tuDa541Gw-o"
      }
    }
  ]
}
