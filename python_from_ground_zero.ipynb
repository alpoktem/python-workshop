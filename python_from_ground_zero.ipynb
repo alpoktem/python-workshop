{
  "nbformat": 4,
  "nbformat_minor": 0,
  "metadata": {
    "colab": {
      "name": "Python from ground zero workshop",
      "provenance": [],
      "collapsed_sections": []
    },
    "kernelspec": {
      "name": "python3",
      "display_name": "Python 3"
    }
  },
  "cells": [
    {
      "cell_type": "markdown",
      "source": [
        "# Python from ground zero workshop\n",
        "\n",
        "Welcome to Python workshop. In this notebook, we'll go step by step to build a solid base for Python. "
      ],
      "metadata": {
        "id": "TJwKoasnQSJa"
      }
    },
    {
      "cell_type": "markdown",
      "source": [
        "# Part 1 - Learning Colab! \n",
        "\n",
        "In this part we'll learn the Colab notebook interface.\n",
        "\n",
        "Colab, or \"Colaboratory\", allows you to write and execute Python in your browser. We write codes in snippets called \"cells\", execute them and see what they do just below.\n",
        "\n",
        "Let's get a hang of it, shall we?\n",
        "\n",
        "Type in the following box: `42` \n",
        "Then press the ▶️ button on the left"
      ],
      "metadata": {
        "id": "IrBYJV1mQW0N"
      }
    },
    {
      "cell_type": "code",
      "metadata": {
        "id": "4V57L5Jb4r-_"
      },
      "source": [
        ""
      ],
      "execution_count": null,
      "outputs": []
    },
    {
      "cell_type": "markdown",
      "source": [
        "We entered an expression, the simplest expression there can be: a number and the Python compiler interpreted it and gave us a result. \n",
        "\n",
        "Since there's nothing to be interpreted by a number it just gives whatever we give to it: `42`\n",
        "\n",
        "*(Secret to programming: Programs do whatever us humans tell them to do)*"
      ],
      "metadata": {
        "id": "wHGDlOjsVFNQ"
      }
    },
    {
      "cell_type": "markdown",
      "source": [
        "Now type: `42 + 90` (or any other mathematical expression)"
      ],
      "metadata": {
        "id": "sNuixsXnQief"
      }
    },
    {
      "cell_type": "code",
      "source": [
        ""
      ],
      "metadata": {
        "id": "4qLcJMPwRqsW"
      },
      "execution_count": null,
      "outputs": []
    },
    {
      "cell_type": "markdown",
      "source": [
        "Now, python compiler interpreted the mathematical expression and gave us its result."
      ],
      "metadata": {
        "id": "ytchU-huVjc9"
      }
    },
    {
      "cell_type": "markdown",
      "source": [
        "Try entering a text now: `'I love Python!'`\n",
        "\n",
        "*Hint: You can also use the short cut Shift+Enter to execute a cell quickly!*"
      ],
      "metadata": {
        "id": "YfEx35RgRvUG"
      }
    },
    {
      "cell_type": "code",
      "source": [
        ""
      ],
      "metadata": {
        "id": "VrNc_gUgSBnk"
      },
      "execution_count": null,
      "outputs": []
    },
    {
      "cell_type": "markdown",
      "source": [
        "Now let's get fancy. Enter the command: `print(\"Hello World!\")`"
      ],
      "metadata": {
        "id": "_5gGg3kCQojL"
      }
    },
    {
      "cell_type": "code",
      "source": [
        ""
      ],
      "metadata": {
        "id": "NQFp-80ZQoAz"
      },
      "execution_count": null,
      "outputs": []
    },
    {
      "cell_type": "markdown",
      "source": [
        "You can write as many lines as you want. Although unless you explicitly do a print, only the latest expression will show up in the result. Let's try below"
      ],
      "metadata": {
        "id": "QRBYpJhNULJT"
      }
    },
    {
      "cell_type": "code",
      "source": [
        ""
      ],
      "metadata": {
        "id": "Y5WycCYJUKxl"
      },
      "execution_count": null,
      "outputs": []
    },
    {
      "cell_type": "markdown",
      "source": [
        "Now let's give ourselves a high five for writing our first script! "
      ],
      "metadata": {
        "id": "nDCBoIAvTCP3"
      }
    },
    {
      "cell_type": "markdown",
      "source": [
        "# Part 2 - Variables\n",
        "\n",
        "Variables are where we keep information in programming. It's a way of asking the computer to allocate a space for us to store things. \n",
        "\n",
        "To create a variable, all we need to do is to put a name and a value to it. It is as simple as writing an equation:\n",
        "\n",
        "`mybrandnewvariable = 5`\n",
        "\n",
        "Once it is defined like this, the variable name will be our key into reaching this variable. \n",
        "\n",
        "The value of a variable is what's kept INSIDE the memory. You can think of variable name as the key of a box and the value as what's inside the box. \n",
        "\n",
        "Variable names are static but we can go changing the value however we want. So if I modify it in a certain point, it'll keep the updated value. \n",
        "\n",
        "`mybrandnewvariable = 9`\n",
        "\n",
        "Let's do a print using a variable. "
      ],
      "metadata": {
        "id": "5D8aWa6RTXZG"
      }
    },
    {
      "cell_type": "code",
      "source": [
        ""
      ],
      "metadata": {
        "id": "2ajPPkvTTBpu"
      },
      "execution_count": null,
      "outputs": []
    },
    {
      "cell_type": "markdown",
      "source": [
        "Here, we stored the text `Hello world!` inside a variable called `my_string_variable`. \n",
        "\n",
        "Then, we printed referencing that variable. \n",
        "\n",
        "Note that we specified the text within quotation marks `\"...\"` but not when we reference the variable. \n",
        "\n",
        "Let's see the difference"
      ],
      "metadata": {
        "id": "0ShkszGeWFOG"
      }
    },
    {
      "cell_type": "code",
      "source": [
        ""
      ],
      "metadata": {
        "id": "4I0MEqlFbuM3"
      },
      "execution_count": null,
      "outputs": []
    },
    {
      "cell_type": "markdown",
      "source": [
        "You see Python interprets whatever inside quotation marks as textual information. Since we used quotation marks here, Python didn't look for a variable named `my_string_variable`. Instead, it just interpreted it as regular text. \n",
        "\n",
        "Although we are free to write text any way we want, there are some naming conventions behind variables:\n",
        "- The variable name should begin with a letter or an underscore.\n",
        "- The variable name can ONLY consist of letters, numbers and underscore (NO SPACES)\n",
        "- Variable names ARE case sensitive (`my_variable` and `MY_Variable` would be two different variables)\n"
      ],
      "metadata": {
        "id": "mgI8V4UIo517"
      }
    },
    {
      "cell_type": "markdown",
      "source": [
        "## Variable types\n",
        "\n",
        "There are various types of variables. For example:\n",
        "\n",
        "- number variable: `a = 5`\n",
        "- text/string variable: `v = \"some text\"`\n",
        "- lists: `l = [1,2,3,4]`\n",
        "- boolean: `b = True`\n",
        "\n",
        "We can see what type a variable has by using `type`. "
      ],
      "metadata": {
        "id": "wxB5H5OLWR2H"
      }
    },
    {
      "cell_type": "code",
      "source": [
        ""
      ],
      "metadata": {
        "id": "eHe7go1wWE04"
      },
      "execution_count": null,
      "outputs": []
    },
    {
      "cell_type": "markdown",
      "source": [
        "`str` stands for string. That's what programmers call a sequence of characters. That is any textual data. "
      ],
      "metadata": {
        "id": "kS0qe3F_Wtdd"
      }
    },
    {
      "cell_type": "markdown",
      "source": [
        "Also, have you noted that we referenced a variable that we defined in another cell? \n",
        "\n",
        "The Python instance is running continuously while we're working so it'll remember whatever variable we define. "
      ],
      "metadata": {
        "id": "gJfUqDKDW2ZI"
      }
    },
    {
      "cell_type": "markdown",
      "source": [
        "## Numbers\n",
        "\n",
        "A whole number can be stored in an `int` variable standing for `integer`. \n",
        "\n",
        "A decimal number can be stored in a `float`, standing for floating point value.\n",
        "\n",
        "Execute the following cell and see different types of numbers"
      ],
      "metadata": {
        "id": "BoQG4qqwXbYe"
      }
    },
    {
      "cell_type": "code",
      "source": [
        "num1 = 42\n",
        "num2 = 5.111\n",
        "print(\"Type of num1 is\", type(num1))\n",
        "print(\"Type of num2 is\", type(num2))"
      ],
      "metadata": {
        "id": "n08e6_cWWqVR"
      },
      "execution_count": null,
      "outputs": []
    },
    {
      "cell_type": "markdown",
      "source": [
        "# Challenge 1 - Variable arithmetics\n",
        "\n",
        "Define two number variables with values `9` and `12` and then get their sum, difference, division and product using the following variables:\n",
        "\n",
        "| Symbol | Task Performed |\n",
        "|----|---|\n",
        "| +  | Addition |\n",
        "| -  | Subtraction |\n",
        "| /  | division |\n",
        "| %  | mod |\n",
        "| *  | multiplication |\n",
        "| //  | floor division |\n",
        "| **  | to the power of |"
      ],
      "metadata": {
        "id": "1kJxZWYAYtwp"
      }
    },
    {
      "cell_type": "code",
      "source": [
        ""
      ],
      "metadata": {
        "id": "O6fWqoSa1EP8"
      },
      "execution_count": null,
      "outputs": []
    },
    {
      "cell_type": "markdown",
      "source": [
        "# Part 3 - String operations\n",
        "\n",
        "Many times we need to manipulate the text we're working with. There are plenty of operations in Python we can use for our tasks."
      ],
      "metadata": {
        "id": "Vo3MgP7LbUGS"
      }
    },
    {
      "cell_type": "markdown",
      "source": [
        "## String concatentation \n",
        "\n",
        "You can concatenate (merge) two strings with `+` operator. \n",
        "\n",
        "Try executing the following expression: `\"Hello\" + \"World\"`"
      ],
      "metadata": {
        "id": "_uE1NQ1Ue-8d"
      }
    },
    {
      "cell_type": "code",
      "source": [
        ""
      ],
      "metadata": {
        "id": "kcL_R7dubTBw"
      },
      "execution_count": null,
      "outputs": []
    },
    {
      "cell_type": "markdown",
      "source": [
        "Oops, forgot a space there. Add it yourself in the cell below:"
      ],
      "metadata": {
        "id": "RgXEPwqpffH-"
      }
    },
    {
      "cell_type": "code",
      "source": [
        ""
      ],
      "metadata": {
        "id": "m_3thQM5f9JX"
      },
      "execution_count": null,
      "outputs": []
    },
    {
      "cell_type": "markdown",
      "source": [
        "## Indexing\n",
        "\n",
        "We said earlier that strings are a sequence of characters. Python allows us to get the character in the position we want using indices (`[x]`).\n",
        "\n",
        "Try executing the code below: "
      ],
      "metadata": {
        "id": "Z42uTrxMffDB"
      }
    },
    {
      "cell_type": "code",
      "source": [
        "mystr = \"localization\"\n",
        "mystr[5]"
      ],
      "metadata": {
        "id": "PWHN1saXgRYd"
      },
      "execution_count": null,
      "outputs": []
    },
    {
      "cell_type": "markdown",
      "source": [
        "`mystr[5]` gave us the fifth character in the string `localization` which is `l`... wait a second\n",
        "\n",
        "We didn't get `l` but instead `i`. Why?\n",
        "\n",
        "Well, it's because the indices in Python (and many other programming languages) start from 0. \n",
        "\n",
        "So... `0`-`l`, `1`-`o`, `2`-`c`, `3`-`a`, `4`-`l`, `5`-`i`... we got `i`!"
      ],
      "metadata": {
        "id": "KAN0yrgdgWe_"
      }
    },
    {
      "cell_type": "markdown",
      "source": [
        "## String length\n",
        "\n",
        "You can get the length of a string using `len(str)` function.\n",
        "\n",
        "Try getting the length of `mystr` below:"
      ],
      "metadata": {
        "id": "-uSY4BADM3hx"
      }
    },
    {
      "cell_type": "code",
      "source": [
        ""
      ],
      "metadata": {
        "id": "Aa_vmiKVM2Ts"
      },
      "execution_count": null,
      "outputs": []
    },
    {
      "cell_type": "markdown",
      "source": [
        "# Challenge 2 - String arithmetics #1\n",
        "\n",
        "Obtain the character in the middle of `localization` using the following tools:\n",
        "- `len(str)` for getting the length of a string\n",
        "- `/` division operator\n",
        "- `[x]` index operator\n",
        "\n",
        "You can define new variables if needed."
      ],
      "metadata": {
        "id": "L4P5ngegM57m"
      }
    },
    {
      "cell_type": "code",
      "source": [
        ""
      ],
      "metadata": {
        "id": "tjVsWx63NAta"
      },
      "execution_count": null,
      "outputs": []
    },
    {
      "cell_type": "markdown",
      "source": [
        "## `str.replace`\n",
        "\n",
        "Let's see what `str.replace` does by using `help` "
      ],
      "metadata": {
        "id": "R8SyowioNjlN"
      }
    },
    {
      "cell_type": "code",
      "source": [
        ""
      ],
      "metadata": {
        "id": "dZ1GLJ8GN6L1"
      },
      "execution_count": null,
      "outputs": []
    },
    {
      "cell_type": "markdown",
      "source": [
        "Now let's use `str.replace` to replace `Mr.` with `Dr.` in the following string"
      ],
      "metadata": {
        "id": "W2imwxjiOAdA"
      }
    },
    {
      "cell_type": "code",
      "source": [
        "myname = \"Mr. Jekyll\"\n",
        "myname.replace(\"Mr.\", \"Dr.\")"
      ],
      "metadata": {
        "id": "o3oQMWzYN_6O"
      },
      "execution_count": null,
      "outputs": []
    },
    {
      "cell_type": "markdown",
      "source": [
        "Let's print `myname` now..."
      ],
      "metadata": {
        "id": "Yd5Ve95pOkM2"
      }
    },
    {
      "cell_type": "code",
      "source": [
        "print(myname)"
      ],
      "metadata": {
        "id": "5mMJLMGnOdoh"
      },
      "execution_count": null,
      "outputs": []
    },
    {
      "cell_type": "markdown",
      "source": [
        "It didn't change why? \n",
        "\n",
        "It's because the change is not made in-place. If you check the help above, you'll see that it \"returns a copy\" of the string but not the string itself. \n",
        "\n",
        "If we want to store the modified variable we need to set the result into a new variable."
      ],
      "metadata": {
        "id": "m3CS9cbiOnR6"
      }
    },
    {
      "cell_type": "code",
      "source": [
        "#Defining new variable\n"
      ],
      "metadata": {
        "id": "qAquY8UnOfgq"
      },
      "execution_count": null,
      "outputs": []
    },
    {
      "cell_type": "markdown",
      "source": [
        "It also replaces all occurences of the given string."
      ],
      "metadata": {
        "id": "hadoLohAPzW4"
      }
    },
    {
      "cell_type": "code",
      "source": [
        "\"Mr.Jekyll and Mr.Hyde\".replace(\"Mr.\", \"Dr.\")"
      ],
      "metadata": {
        "id": "xUiSjqk8PLH2"
      },
      "execution_count": null,
      "outputs": []
    },
    {
      "cell_type": "markdown",
      "source": [
        "## `str.format()`\n",
        "\n",
        "This is used to place variables inside a string. "
      ],
      "metadata": {
        "id": "tdc8boVGSL8y"
      }
    },
    {
      "cell_type": "code",
      "source": [
        "secret = '{} is cool!'.format('Python')\n",
        "print(secret)"
      ],
      "metadata": {
        "id": "xKTkP8awPlk3"
      },
      "execution_count": null,
      "outputs": []
    },
    {
      "cell_type": "code",
      "source": [
        "#Introduce yourself using format\n"
      ],
      "metadata": {
        "id": "By4fXwQ0SH8j"
      },
      "execution_count": null,
      "outputs": []
    },
    {
      "cell_type": "markdown",
      "source": [
        "## `str.join()`"
      ],
      "metadata": {
        "id": "cDEheBP7SwIp"
      }
    },
    {
      "cell_type": "code",
      "source": [
        "str1 = 'pandas'\n",
        "str2 = 'numpy'\n",
        "str3 = 'requests'\n",
        "cool_python_libs = ', '.join([str1, str2, str3])"
      ],
      "metadata": {
        "id": "unUWwssxSx1Q"
      },
      "execution_count": null,
      "outputs": []
    },
    {
      "cell_type": "code",
      "source": [
        "print('Some cool python libraries: {}'.format(cool_python_libs))"
      ],
      "metadata": {
        "id": "AtUzmRvZTAEn"
      },
      "execution_count": null,
      "outputs": []
    },
    {
      "cell_type": "markdown",
      "source": [
        "## `str.upper(), str.lower(), str.title()`\n",
        "\n",
        "These three are very useful when cleaning text"
      ],
      "metadata": {
        "id": "vn-M_b-4THbC"
      }
    },
    {
      "cell_type": "code",
      "source": [
        "mystr = 'pyTHoN hackER'"
      ],
      "metadata": {
        "id": "86bBAmKBTZe5"
      },
      "execution_count": null,
      "outputs": []
    },
    {
      "cell_type": "code",
      "source": [
        "mystr.upper()"
      ],
      "metadata": {
        "id": "wi3zVllFTiVI"
      },
      "execution_count": null,
      "outputs": []
    },
    {
      "cell_type": "code",
      "source": [
        "mystr.lower()"
      ],
      "metadata": {
        "id": "rHL-kx7yToUN"
      },
      "execution_count": null,
      "outputs": []
    },
    {
      "cell_type": "code",
      "source": [
        "mystr.title()"
      ],
      "metadata": {
        "id": "S3gvi5TOTq22"
      },
      "execution_count": null,
      "outputs": []
    },
    {
      "cell_type": "code",
      "source": [
        "mystr.capitalize()"
      ],
      "metadata": {
        "id": "5vXisSnOV9af"
      },
      "execution_count": null,
      "outputs": []
    },
    {
      "cell_type": "markdown",
      "source": [
        "## `str.strip`\n",
        "\n",
        "Strips out sneaky whitespace at the beginning or end of the string. \n",
        "\n",
        "Note that `\\t` stands for tab and `\\n` stands for a new line in python (For more info see [Escape characters](http://python-reference.readthedocs.io/en/latest/docs/str/escapes.html#escape-characters))"
      ],
      "metadata": {
        "id": "aTTZtg5FT-xl"
      }
    },
    {
      "cell_type": "code",
      "source": [
        "my_crooked_str = \"   \\t THis Is a \\tTeRRIble sTRing \\n\""
      ],
      "metadata": {
        "id": "5j2RG52kT-CR"
      },
      "execution_count": null,
      "outputs": []
    },
    {
      "cell_type": "code",
      "source": [
        "print(my_crooked_str)"
      ],
      "metadata": {
        "id": "bWW7NyfATtXI"
      },
      "execution_count": null,
      "outputs": []
    },
    {
      "cell_type": "code",
      "source": [
        "slightly_better = my_crooked_str.strip()\n",
        "print(slightly_better)"
      ],
      "metadata": {
        "id": "KVu9sI3LUXqO"
      },
      "execution_count": null,
      "outputs": []
    },
    {
      "cell_type": "markdown",
      "source": [
        "We can pipeline operations by adding them one after the other"
      ],
      "metadata": {
        "id": "gPvIIC8aXEOb"
      }
    },
    {
      "cell_type": "code",
      "source": [
        "slightly_better = my_crooked_str.strip().lower()\n",
        "print(slightly_better)"
      ],
      "metadata": {
        "id": "zszy6TxuXSwl"
      },
      "execution_count": null,
      "outputs": []
    },
    {
      "cell_type": "markdown",
      "source": [
        "## `str.split()`\n",
        "\n",
        "This is used to split string from the delimiters we choose. Let's see what `help` says about it. "
      ],
      "metadata": {
        "id": "hVdfR7lhU0wQ"
      }
    },
    {
      "cell_type": "code",
      "source": [
        "help(str.split)"
      ],
      "metadata": {
        "id": "q58d9MUkWadv"
      },
      "execution_count": null,
      "outputs": []
    },
    {
      "cell_type": "code",
      "source": [
        "sentence = 'three different words'\n",
        "words = sentence.split()\n",
        "print(words)"
      ],
      "metadata": {
        "id": "QDvCF_BaUnM3"
      },
      "execution_count": null,
      "outputs": []
    },
    {
      "cell_type": "markdown",
      "source": [
        "As the description says, it returns a list. We'll get into lists later. \n",
        "\n",
        "We could use other delimiters too."
      ],
      "metadata": {
        "id": "bRsVCK1sWhGT"
      }
    },
    {
      "cell_type": "code",
      "source": [
        "another_sentence = 'three, different, words'\n",
        "words = sentence.split()\n",
        "print(words)"
      ],
      "metadata": {
        "id": "JmlSf146U8bD"
      },
      "execution_count": null,
      "outputs": []
    },
    {
      "cell_type": "markdown",
      "source": [
        "# Challenge 3 - String arithmetics #2\n",
        "\n",
        "Let's use what we learned to make this horrible string truly beautiful. \n",
        "\n",
        "Let's process `my_crooked_str` so that it looks like this:\n",
        "\n",
        "`\"This is a beautiful string.\"`\n",
        "\n",
        "*(Don't forget the period in the end)*"
      ],
      "metadata": {
        "id": "HTUaRI7dXb5o"
      }
    },
    {
      "cell_type": "code",
      "source": [
        "my_beautiful_string = my_crooked_str._______\n",
        "print(my_beautiful_string)"
      ],
      "metadata": {
        "id": "nujI7IoTV3xi"
      },
      "execution_count": null,
      "outputs": []
    },
    {
      "cell_type": "markdown",
      "source": [
        "# Part 3 - Conditionals\n",
        "\n",
        "Welcome to conditionals, the most fundamental decision mechanism in coding. It's a way of showing direction to our program based on a condition.\n",
        "\n",
        "But before we get into that, I'll introduce another variable type called boolean (named after [George Boole](https://en.wikipedia.org/wiki/George_Boole)).\n",
        "\n",
        "A boolean is a binary variable, that is it can either be \"on\" or \"off\", 1 or 0, `True` or `False`. "
      ],
      "metadata": {
        "id": "gqBCRJngY7ec"
      }
    },
    {
      "cell_type": "code",
      "source": [
        "my_boolean = True\n",
        "print(my_boolean)\n",
        "print(type(my_boolean))"
      ],
      "metadata": {
        "id": "GtAKum6OdQnC"
      },
      "execution_count": null,
      "outputs": []
    },
    {
      "cell_type": "markdown",
      "source": [
        "I can negate a boolean variable by using the expression `not`"
      ],
      "metadata": {
        "id": "Y7Wx949fdgZO"
      }
    },
    {
      "cell_type": "code",
      "source": [
        "my_boolean = True\n",
        "another_boolean = not my_boolean\n",
        "print(another_boolean)"
      ],
      "metadata": {
        "id": "5zL9BLLMdmc5"
      },
      "execution_count": null,
      "outputs": []
    },
    {
      "cell_type": "markdown",
      "source": [
        "Now let's build our first conditional using `if`. "
      ],
      "metadata": {
        "id": "V_no5bCdeFBn"
      }
    },
    {
      "cell_type": "code",
      "source": [
        "statement = True\n",
        "if statement:\n",
        "    print('statement is True')\n",
        "    \n",
        "if not statement:\n",
        "    print('statement is not True')"
      ],
      "metadata": {
        "id": "YziGX_udY9vU"
      },
      "execution_count": null,
      "outputs": []
    },
    {
      "cell_type": "markdown",
      "source": [
        "Note the indentation under `if` expression"
      ],
      "metadata": {
        "id": "Kltx06fMlQeV"
      }
    },
    {
      "cell_type": "markdown",
      "source": [
        "`if...else` also comes in handy"
      ],
      "metadata": {
        "id": "EbTYBakyeMJp"
      }
    },
    {
      "cell_type": "code",
      "source": [
        "statement = True\n",
        "if statement:\n",
        "    print('statement is True')\n",
        "else:\n",
        "    print('statement is not True')"
      ],
      "metadata": {
        "id": "KfliWfPOeJvY"
      },
      "execution_count": null,
      "outputs": []
    },
    {
      "cell_type": "markdown",
      "source": [
        "Let's say we want to decide what we want to wear depending on the temperature given in degrees celcius.\n",
        "\n",
        "To decide based on a number, we'll need the following:\n",
        "\n",
        "| Symbol | Task Performed |\n",
        "|----|---|\n",
        "| >  | Bigger than |\n",
        "| <  | Smaller than |\n",
        "| >=  | Bigger than or equal to |\n",
        "| <=  | Smaller than or equal to |"
      ],
      "metadata": {
        "id": "AFgFrqaOg212"
      }
    },
    {
      "cell_type": "code",
      "source": [
        "temperature = 15\n",
        "\n",
        "#if...else\n"
      ],
      "metadata": {
        "id": "xigzVpIog2PI"
      },
      "execution_count": null,
      "outputs": []
    },
    {
      "cell_type": "markdown",
      "source": [
        "If we have more than one condition then we use `if...elif...else`"
      ],
      "metadata": {
        "id": "BwKVNag6iERp"
      }
    },
    {
      "cell_type": "code",
      "source": [
        "temperature = 12\n",
        "\n",
        "#if...elif...else\n"
      ],
      "metadata": {
        "id": "t3vgL3-8iDcZ"
      },
      "execution_count": null,
      "outputs": []
    },
    {
      "cell_type": "markdown",
      "source": [
        "We can combine conditions with `and`, `or`"
      ],
      "metadata": {
        "id": "n3979WH2ir9x"
      }
    },
    {
      "cell_type": "code",
      "source": [
        "temperature = 25\n",
        "sunny = True\n",
        "\n",
        "#combined if\n"
      ],
      "metadata": {
        "id": "o8ILCeAgip-q"
      },
      "execution_count": null,
      "outputs": []
    },
    {
      "cell_type": "code",
      "source": [
        "temperature = 12\n",
        "rainy = True\n",
        "\n",
        "#combined if with OR"
      ],
      "metadata": {
        "id": "kBKU6vI9iBnM"
      },
      "execution_count": null,
      "outputs": []
    },
    {
      "cell_type": "markdown",
      "source": [
        "`==` and `!=` are used to evaluate if two expressions are equal or not equal"
      ],
      "metadata": {
        "id": "xPsiurMmklNX"
      }
    },
    {
      "cell_type": "code",
      "source": [
        "language = 'en'\n",
        "\n",
        "if language == 'fr':\n",
        "  print(\"Bonjour!\")\n",
        "elif language == 'en':\n",
        "  print(\"Good morning!\")\n",
        "elif language == 'tr':\n",
        "  print(\"Günaydın\")"
      ],
      "metadata": {
        "id": "aDOrX58rkkdr"
      },
      "execution_count": null,
      "outputs": []
    },
    {
      "cell_type": "code",
      "source": [
        "password = '12345'\n",
        "user_input = '12345'\n",
        "\n",
        "#Warn if password is wrong using !=\n"
      ],
      "metadata": {
        "id": "jNvx7DmOkcOg"
      },
      "execution_count": null,
      "outputs": []
    },
    {
      "cell_type": "markdown",
      "source": [
        "#Challenge 4 - Conditionals\n",
        "\n",
        "Fill in where it's marked with `____` with the proper conditional"
      ],
      "metadata": {
        "id": "O87KTAc9loKg"
      }
    },
    {
      "cell_type": "code",
      "source": [
        "name = 'George Boolean'\n",
        "\n",
        "if ____:\n",
        "    print('Name \"{}\" is more than 20 chars long'.format(name))\n",
        "    length_description = 'long'\n",
        "elif ____:\n",
        "    print('Name \"{}\" is more than 15 chars long'.format(name))\n",
        "    length_description = 'semi long'\n",
        "elif ____:\n",
        "    print('Name \"{}\" is more than 10 chars long'.format(name))\n",
        "    length_description = 'semi long'\n",
        "elif ____:\n",
        "    print('Name \"{}\" is 8, 9 or 10 chars long'.format(name))\n",
        "    length_description = 'semi short'\n",
        "else:\n",
        "    print('Name \"{}\" is a short name'.format(name))\n",
        "    length_description = 'short'"
      ],
      "metadata": {
        "id": "es6dPJYUlKP5"
      },
      "execution_count": null,
      "outputs": []
    },
    {
      "cell_type": "markdown",
      "source": [
        "# Part 4 - Lists and dictionaries\n",
        "\n",
        "Lists and dictionaries make it super easy to keep a set of values tidy in one single variable. \n",
        "\n",
        "## Lists\n",
        "\n",
        "A list is defined as follows:\n",
        "\n",
        "`my_list = [1,2,3,4,5,6]`\n",
        "\n",
        "Let's say if we want to read the third element, we'd just need to say:\n",
        "\n",
        "`my_list[2]`\n",
        "\n",
        "*(Note that I put 2 there because remember first element is index 0)*\n",
        "\n",
        "Try creating a list and print one of it's elements"
      ],
      "metadata": {
        "id": "fmWFAtejpFQ_"
      }
    },
    {
      "cell_type": "code",
      "source": [
        ""
      ],
      "metadata": {
        "id": "UvcFYwxLthVP"
      },
      "execution_count": null,
      "outputs": []
    },
    {
      "cell_type": "markdown",
      "source": [
        "A list can be empty..."
      ],
      "metadata": {
        "id": "izf5NAXFth8a"
      }
    },
    {
      "cell_type": "code",
      "source": [
        "new_list = []\n",
        "\n",
        "if not new_list:\n",
        "  print(\"My list is empty :(\")"
      ],
      "metadata": {
        "id": "1rBBO321tuHX"
      },
      "execution_count": null,
      "outputs": []
    },
    {
      "cell_type": "markdown",
      "source": [
        "And if we want to add to and remove elements from a list we already defined, we can use the `append` and `remove` function"
      ],
      "metadata": {
        "id": "1uBCB2TKt69P"
      }
    },
    {
      "cell_type": "code",
      "source": [
        "#append and remove\n",
        "\n",
        "\n",
        "print(new_list)"
      ],
      "metadata": {
        "id": "hjfmbU5AuGfd"
      },
      "execution_count": null,
      "outputs": []
    },
    {
      "cell_type": "markdown",
      "source": [
        "A length of a list can be obtained using the `len` function"
      ],
      "metadata": {
        "id": "9VVpzGKOuBeS"
      }
    },
    {
      "cell_type": "code",
      "source": [
        "print('list: {}, size: {}'.format(new_list, len(new_list)))"
      ],
      "metadata": {
        "id": "6dKz3rM6uVCY"
      },
      "execution_count": null,
      "outputs": []
    },
    {
      "cell_type": "markdown",
      "source": [
        "We can modify or remove an element too"
      ],
      "metadata": {
        "id": "-TylO8Wluhq2"
      }
    },
    {
      "cell_type": "code",
      "source": [
        "my_list = [0, 1, 2, 3, 4, 5]\n",
        "print(my_list)\n",
        "\n",
        "print(\"\\nModify value at index 0 to 99\")\n",
        "________\n",
        "print(my_list)\n",
        "\n",
        "print(\"\\nRemove first value using del\")\n",
        "______\n",
        "print(my_list)"
      ],
      "metadata": {
        "id": "X5emHBxeuhCW"
      },
      "execution_count": null,
      "outputs": []
    },
    {
      "cell_type": "markdown",
      "source": [
        "It's very useful to check if a variable we want is in the list. \n",
        "\n",
        "For that we can use `in`"
      ],
      "metadata": {
        "id": "9qUn6jlawMyk"
      }
    },
    {
      "cell_type": "code",
      "source": [
        "languages = ['en', 'fr', 'tr', 'ar', 'sw']\n",
        "\n",
        "if 'tr' in languages:\n",
        "  print(\"Turkish is in the list\")\n",
        "\n",
        "if 'de' in languages:\n",
        "  print(\"German is in the list\")\n",
        "else:\n",
        "  print(\"German is not in the list\")\n",
        "\n",
        "if 'ro' not in languages:\n",
        "  print(\"Romanian is not in the list\")"
      ],
      "metadata": {
        "id": "C_gkxZ7JwTfE"
      },
      "execution_count": null,
      "outputs": []
    },
    {
      "cell_type": "markdown",
      "source": [
        "And finally, we can sort a list using `sort`"
      ],
      "metadata": {
        "id": "XrSZd__3y1k_"
      }
    },
    {
      "cell_type": "code",
      "source": [
        "numbers = [8, 1, 6, 5, 10]\n",
        "numbers.sort()\n",
        "print('sorted numbers:', numbers)\n",
        "\n",
        "numbers.sort(reverse=True)\n",
        "print('numbers reverse sorted:', numbers)\n",
        "\n",
        "words = ['this', 'is', 'a', 'list', 'of', 'words']\n",
        "words.sort()\n",
        "print('words:',words)"
      ],
      "metadata": {
        "id": "OoJbsQO_y-62"
      },
      "execution_count": null,
      "outputs": []
    },
    {
      "cell_type": "markdown",
      "source": [
        "Merging lists are easy as 1,2,3"
      ],
      "metadata": {
        "id": "XbToOQQU0fZg"
      }
    },
    {
      "cell_type": "code",
      "source": [
        "old_star_wars = [4,5,6]\n",
        "new_star_wars = [1,2,3]\n",
        "\n",
        "all_star_wars = ___________\n",
        "print(all_star_wars)"
      ],
      "metadata": {
        "id": "ZeJCP2G_0zuk"
      },
      "execution_count": null,
      "outputs": []
    },
    {
      "cell_type": "markdown",
      "source": [
        "# Challenge 5 - Lists\n",
        "\n",
        "Define an empty list called `challenge`. Add the elements:\n",
        "- `I`\n",
        "- `am`\n",
        "- `learning`\n",
        "- `Python`\n",
        "- `today`\n",
        "\n",
        "Replace the element `learning` with `loving`\n",
        "\n",
        "Remove the element `today`\n",
        "\n",
        "Sort the list"
      ],
      "metadata": {
        "id": "W8P3gxAMzzaC"
      }
    },
    {
      "cell_type": "code",
      "source": [
        ""
      ],
      "metadata": {
        "id": "0DZqDQvi1QVl"
      },
      "execution_count": null,
      "outputs": []
    },
    {
      "cell_type": "code",
      "source": [
        "#Execute this cell to see if you did everything correctly\n",
        "assert challenge == ['I', 'Python', 'am', 'loving']"
      ],
      "metadata": {
        "id": "hT9kTCIBzjFE"
      },
      "execution_count": null,
      "outputs": []
    },
    {
      "cell_type": "markdown",
      "source": [
        "## Dictionaries\n",
        "\n",
        "Dictionaries are key-value pairs. \n",
        "\n",
        "A dictionary is defined with curly brackets"
      ],
      "metadata": {
        "id": "I-pavyLh2HLc"
      }
    },
    {
      "cell_type": "code",
      "source": [
        "my_dict = {'a':'apple', 'b':'banana', 'c':'cherries'}\n",
        "print(my_dict)\n",
        "print(type(my_dict))"
      ],
      "metadata": {
        "id": "knyhNvnc22gB"
      },
      "execution_count": null,
      "outputs": []
    },
    {
      "cell_type": "markdown",
      "source": [
        "We can read the elements using the keys that we defined"
      ],
      "metadata": {
        "id": "7EHy9uhz27tE"
      }
    },
    {
      "cell_type": "code",
      "source": [
        ""
      ],
      "metadata": {
        "colab": {
          "base_uri": "https://localhost:8080/"
        },
        "id": "kjqNhL2B2gLf",
        "outputId": "7246baa7-2458-4535-a7e1-c42b7e6d34ad"
      },
      "execution_count": null,
      "outputs": [
        {
          "output_type": "stream",
          "name": "stdout",
          "text": [
            "cherries\n"
          ]
        }
      ]
    },
    {
      "cell_type": "markdown",
      "source": [
        "Or modify them"
      ],
      "metadata": {
        "id": "Qs-HukQC2s7U"
      }
    },
    {
      "cell_type": "code",
      "source": [
        ""
      ],
      "metadata": {
        "colab": {
          "base_uri": "https://localhost:8080/"
        },
        "id": "4g9PHXTw2t95",
        "outputId": "bf9a551f-45c6-4729-e3a8-feedab1fec5b"
      },
      "execution_count": null,
      "outputs": [
        {
          "output_type": "stream",
          "name": "stdout",
          "text": [
            "{'a': 'avocado', 'b': 'banana', 'c': 'cherries'}\n"
          ]
        }
      ]
    },
    {
      "cell_type": "markdown",
      "source": [
        "# Part 5 - Loops\n",
        "\n",
        "Sometimes there are too many variables that we need to automate their processing. Loops come in handy when we want to perform a repeated task. \n",
        "\n",
        "We usually iterate through a list's items. \n",
        "\n",
        "The keyword conventionally used in programming is `for`. \n",
        "\n",
        "when we say `for item in my_list`, I get the elements from `my_list` one by one into a variable called `item` which is only accessible within that loop step.\n",
        "\n",
        "Let's do a simple printing example"
      ],
      "metadata": {
        "id": "0A1_UjLnqf6F"
      }
    },
    {
      "cell_type": "code",
      "source": [
        "my_list = [1, 2, 3, 4, 'Python', 'is', 'neat']\n",
        "#Print items in list"
      ],
      "metadata": {
        "id": "KljofpR14sHw"
      },
      "execution_count": null,
      "outputs": []
    },
    {
      "cell_type": "markdown",
      "source": [
        "# Challenge 6 - loops and dictionaries\n",
        "\n",
        "Given our list of fruits, transfer them into a dictionary using their first letters as key \n",
        "\n",
        "For example:\n",
        "\n",
        "Given list `['apple', 'pear', 'cherry']`\n",
        "\n",
        "Make dictionary `{'a':'apple', 'p':'pear', 'c':'cherry'}`"
      ],
      "metadata": {
        "id": "zN2DH-ID5TBi"
      }
    },
    {
      "cell_type": "code",
      "source": [
        "#Fill in the blanks\n",
        "fruits = ['cantaloop', 'cherries', 'mango', 'papaya', 'pomegranade']\n",
        "fruit_dictionary = {}\n",
        "\n",
        "for ____ in fruits:\n",
        "  first_letter = _____\n",
        "  fruit_dictionary[first_letter] = _____\n",
        "\n",
        "print(fruit_dictionary)"
      ],
      "metadata": {
        "id": "U_NeWt7xw2D3"
      },
      "execution_count": null,
      "outputs": []
    },
    {
      "cell_type": "code",
      "source": [
        "#Execute this to see if you get it right\n",
        "assert fruit_dictionary == {'c': 'cantaloop', 'p': 'pomegranade', 'm': 'mango'}"
      ],
      "metadata": {
        "id": "2BSMwyjlxHwG"
      },
      "execution_count": null,
      "outputs": []
    },
    {
      "cell_type": "markdown",
      "source": [
        "# Challenge 6b - List inside dictionary (Home exercise)\n",
        "\n",
        "As you have noticed, because the keys clashed in the previous exercise, we lost some fruits that were in the original list. \n",
        "\n",
        "Edit the code so that we keep all fruits under the same key. \n",
        "\n",
        "The final dictionary should look like this:\n",
        "\n",
        "`fruit_dictionary = {'c': ['cantaloop', 'cherries], 'p': ['papaya', 'pomegranade'], 'm': ['mango']}`"
      ],
      "metadata": {
        "id": "736RV9v1yAah"
      }
    },
    {
      "cell_type": "code",
      "source": [
        ""
      ],
      "metadata": {
        "id": "alSSJlrux9kn"
      },
      "execution_count": null,
      "outputs": []
    },
    {
      "cell_type": "markdown",
      "source": [
        "# Part 6- Functions\n",
        "\n",
        "A function is a replicable procedure to perform a specific task. It's very useful when we're going to perform one task repeatedly or in different parts of our code. \n",
        "\n",
        "Functions are declared with the keyword `def` followed by function name and then function parameters\n",
        "\n",
        "```\n",
        "def my_function(parameter1, parameter2)\n",
        "  #Stuff that my function will do\n",
        "```\n",
        "\n",
        "Let's write a function that we can use to greet "
      ],
      "metadata": {
        "id": "Qj6Qpwn0pGhX"
      }
    },
    {
      "cell_type": "code",
      "source": [
        "#Greet function\n"
      ],
      "metadata": {
        "id": "zZ2vvVZt0cXb"
      },
      "execution_count": null,
      "outputs": []
    },
    {
      "cell_type": "markdown",
      "source": [
        "Now let's use our name with it by letting it as a parameter"
      ],
      "metadata": {
        "id": "SCkRFwQB38m9"
      }
    },
    {
      "cell_type": "code",
      "source": [
        ""
      ],
      "metadata": {
        "id": "jZrFLJhx3-ft"
      },
      "execution_count": null,
      "outputs": []
    },
    {
      "cell_type": "markdown",
      "source": [
        "Functions can return values too.\n",
        "\n",
        "Let's make a function that gives out the square of the number we give to it."
      ],
      "metadata": {
        "id": "IoL4MSLx3--V"
      }
    },
    {
      "cell_type": "code",
      "source": [
        ""
      ],
      "metadata": {
        "id": "5SgW3-fi4brg"
      },
      "execution_count": null,
      "outputs": []
    },
    {
      "cell_type": "markdown",
      "source": [
        "See, when we have a long array and we want to perform our function to all elements we can just create a loop and call our function to do its magic"
      ],
      "metadata": {
        "id": "hHnh0Y9S4c8S"
      }
    },
    {
      "cell_type": "code",
      "source": [
        "my_numbers = [1,2,3,4,5,6,7]\n",
        "my_numbers_squared = []\n",
        "\n",
        "for..."
      ],
      "metadata": {
        "id": "bgvdp7swNycc"
      },
      "execution_count": null,
      "outputs": []
    },
    {
      "cell_type": "markdown",
      "source": [
        "# Challenge 7 - Searching for wanted people\n",
        "\n",
        "Implement `find_wanted_people` function which takes a list of names (strings) as argument. The function should return a list of names which are present both in `WANTED_PEOPLE` and in the name list given as argument to the function."
      ],
      "metadata": {
        "id": "kfZtV_JO4nqc"
      }
    },
    {
      "cell_type": "code",
      "source": [
        "WANTED_PEOPLE = ['John Doe', 'Clint Eastwood', 'Chuck Norris']"
      ],
      "metadata": {
        "id": "w6E3Ni5I5MdO"
      },
      "execution_count": null,
      "outputs": []
    },
    {
      "cell_type": "code",
      "source": [
        "def find_wanted_people(people_list):\n",
        "  #Implement your function here"
      ],
      "metadata": {
        "id": "1QEBo_f75Nhb"
      },
      "execution_count": null,
      "outputs": []
    },
    {
      "cell_type": "code",
      "source": [
        "#Execute this cell to see if you did it right\n",
        "people_to_check1 = ['Donald Duck', 'Clint Eastwood', 'John Doe', 'Barack Obama']\n",
        "wanted1 = find_wanted_people(people_to_check1)\n",
        "assert len(wanted1) == 2\n",
        "assert 'John Doe' in wanted1\n",
        "assert 'Clint Eastwood'in wanted1\n",
        "\n",
        "people_to_check2 = ['Donald Duck', 'Mickey Mouse', 'Zorro', 'Superman', 'Robin Hood']\n",
        "wanted2 = find_wanted_people(people_to_check2)\n",
        "assert wanted2 == []"
      ],
      "metadata": {
        "id": "vCmBJ8hj5YA3"
      },
      "execution_count": null,
      "outputs": []
    },
    {
      "cell_type": "markdown",
      "source": [
        "# Part 7 - Packages\n",
        "\n",
        "What we presented above was the core basics of python. You might be thinking how can these simple tools can help with our complicated tasks. \n",
        "\n",
        "There seems to be a huge gap right? \n",
        "\n",
        "Well, yes there is but you don't have to worry that much. Another miracle of Python is that it is modular. \n",
        "\n",
        "What does modular mean?\n",
        "\n",
        "It means if I want to perform task X, it is highly probable that someone out there wrote a code for it that I can just plug it in my code. \n",
        "\n",
        "In Python, this is standardized through packages. \n",
        "\n",
        "Ever heard of the saying *\"There's an app for it?\"*\n",
        "\n",
        "Well in python **\"There's a package for it!\"**\n",
        "\n",
        "There are thousands of packages that can help you solve tasks like:\n",
        "\n",
        "- Reading and manipulating Google spreadsheets\n",
        "- Process TMX, XML etc.\n",
        "- Clean text from emoji etc.\n",
        "- Build a machine translation model (more on this on Friday!)\n",
        "- Whatever you might imagine...\n",
        "\n",
        "Some of these packages come readily with our Python installation. \n",
        "\n",
        "And the rest can be found in sites like https://pypi.org/ and installed with one line of command. "
      ],
      "metadata": {
        "id": "9Q7RQ-nWpN2H"
      }
    },
    {
      "cell_type": "markdown",
      "source": [
        "# Final challenge\n",
        "\n",
        "Now that we're Python experts, we can come through some real challenges, right??\n",
        "\n",
        "In this final challenge, we're going to fix some highly challenging documents which a client has asked us to translate. \n",
        "\n",
        "You can download them from this link:...\n",
        "\n",
        "Next, we're going to put them in our Colab workspace using the left menu. "
      ],
      "metadata": {
        "id": "XAktEr7pqaJ7"
      }
    },
    {
      "cell_type": "markdown",
      "source": [
        "It is always good to think about the task before embarking on any coding. \n",
        "\n",
        "A programmer always thinks in terms of input and output. Let's define them first:\n",
        "\n",
        "INPUT: 2 docx Word documents with badly formatted text\n",
        "\n",
        "OUTPUT: 2 docx Word documents with format corrected text"
      ],
      "metadata": {
        "id": "KAe0WqX_CFpX"
      }
    },
    {
      "cell_type": "markdown",
      "source": [
        "Once we know the beginning and ending of our procedure, we can start thinking about the intermediate steps.\n",
        "\n",
        "1. ___\n",
        "2. ___\n",
        "3. ___"
      ],
      "metadata": {
        "id": "kTAfvtkBCo_S"
      }
    },
    {
      "cell_type": "markdown",
      "source": [
        "To accomplish these tasks, two Python packages come to our help:\n",
        "\n",
        "1. `clean-text` for normalizing text https://pypi.org/project/clean-text/\n",
        "2. `docx` for reading and writing word documents https://python-docx.readthedocs.io/en/latest/index.html\n",
        "\n",
        "We're going to get help from this tutorial when using `docx`: https://tech-cookbook.com/2019/10/21/how-to-work-with-docx-in-python/"
      ],
      "metadata": {
        "id": "LjS-oD4qDBhQ"
      }
    },
    {
      "cell_type": "markdown",
      "source": [
        "These two packages are not included in the standard Python distribution. So we have to install them. We can install a package using this command:\n",
        "\n",
        "`!pip install <package-name>`\n",
        "\n",
        "Let's install these two packages: "
      ],
      "metadata": {
        "id": "FNUYToVmDkdP"
      }
    },
    {
      "cell_type": "code",
      "source": [
        "!pip install clean-text"
      ],
      "metadata": {
        "id": "yqTdEF9jpUcq"
      },
      "execution_count": null,
      "outputs": []
    },
    {
      "cell_type": "code",
      "source": [
        "!pip install python-docx"
      ],
      "metadata": {
        "id": "AEveQytyD1Kk"
      },
      "execution_count": null,
      "outputs": []
    },
    {
      "cell_type": "markdown",
      "source": [
        "Let's play around with the `clean-text` package. We can see its basic usage in its website. "
      ],
      "metadata": {
        "id": "zYIYRY60FYtZ"
      }
    },
    {
      "cell_type": "code",
      "source": [
        ""
      ],
      "metadata": {
        "id": "z-YJmxFeFXwT"
      },
      "execution_count": null,
      "outputs": []
    },
    {
      "cell_type": "markdown",
      "source": [
        "The same way, let's familiarize ourself with the `pypandoc` package. "
      ],
      "metadata": {
        "id": "A43__1MVFqTr"
      }
    },
    {
      "cell_type": "code",
      "source": [
        ""
      ],
      "metadata": {
        "id": "cTkcTkBbEXh_"
      },
      "execution_count": null,
      "outputs": []
    },
    {
      "cell_type": "markdown",
      "source": [
        "Let's start by writing a function that reads lines of a document into a list"
      ],
      "metadata": {
        "id": "-oWTBl7mFy5J"
      }
    },
    {
      "cell_type": "code",
      "source": [
        ""
      ],
      "metadata": {
        "id": "tbg1Mo4zF_99"
      },
      "execution_count": null,
      "outputs": []
    },
    {
      "cell_type": "markdown",
      "source": [
        "Now let's create another function that processes the strings in a list and outputs another list"
      ],
      "metadata": {
        "id": "D1kPOJySGAiG"
      }
    },
    {
      "cell_type": "code",
      "source": [
        ""
      ],
      "metadata": {
        "id": "8Heh_HMFGP1u"
      },
      "execution_count": null,
      "outputs": []
    },
    {
      "cell_type": "markdown",
      "source": [
        "And finally, let's write a function that creates a document from our list of strings and writes it into memory"
      ],
      "metadata": {
        "id": "VkV9akz3GS2E"
      }
    },
    {
      "cell_type": "code",
      "source": [
        ""
      ],
      "metadata": {
        "id": "gNCwhEhyGezz"
      },
      "execution_count": null,
      "outputs": []
    },
    {
      "cell_type": "markdown",
      "source": [
        "OK! So far so good, now let's perform the whole process for a document and see its results! "
      ],
      "metadata": {
        "id": "TR3NMPx8Gher"
      }
    },
    {
      "cell_type": "code",
      "source": [
        ""
      ],
      "metadata": {
        "id": "SaxsH4tKGgnb"
      },
      "execution_count": null,
      "outputs": []
    },
    {
      "cell_type": "markdown",
      "source": [
        "And now, we can extend the same code to process ALL documents! "
      ],
      "metadata": {
        "id": "3zZj27fWGqy8"
      }
    },
    {
      "cell_type": "code",
      "source": [
        ""
      ],
      "metadata": {
        "id": "orR7rnYHGwy_"
      },
      "execution_count": null,
      "outputs": []
    },
    {
      "cell_type": "markdown",
      "source": [
        "Voila! Our documents are now ready to be translated! "
      ],
      "metadata": {
        "id": "_tuDa541Gw-o"
      }
    }
  ]
}
